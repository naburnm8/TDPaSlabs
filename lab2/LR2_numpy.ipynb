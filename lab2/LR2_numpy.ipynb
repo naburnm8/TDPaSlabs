{
 "cells": [
  {
   "cell_type": "markdown",
   "metadata": {},
   "source": [
    "# Numpy"
   ]
  },
  {
   "cell_type": "markdown",
   "metadata": {},
   "source": [
    "Полезные ссылки\n",
    "* https://www.kaggle.com/code/landlord/numpy-tutorial\n",
    "* https://numpy.org/doc/stable/user/index.html\n",
    "* https://numpy.org/doc/stable/reference/index.html\n",
    "* https://www.kaggle.com/code/themlphdstudent/learn-numpy-numpy-50-exercises-and-solution"
   ]
  },
  {
   "cell_type": "markdown",
   "metadata": {},
   "source": [
    "## Задачи"
   ]
  },
  {
   "cell_type": "markdown",
   "metadata": {},
   "source": [
    "Замечание: при решении данных задач не подразумевается использования циклов или генераторов Python. Решение должно опираться исключительно на использования функционала библиотеки `numpy`."
   ]
  },
  {
   "cell_type": "markdown",
   "metadata": {},
   "source": [
    "1. Файл `minutes_n_ingredients.csv` содержит информацию об идентификаторе рецепта, времени его выполнения в минутах и количестве необходимых ингредиентов. Считайте данные из этого файла в виде массива `numpy` Выведите на экран первые 10 строк массива."
   ]
  },
  {
   "metadata": {
    "ExecuteTime": {
     "end_time": "2024-11-07T16:05:25.006740Z",
     "start_time": "2024-11-07T16:05:24.796904Z"
    }
   },
   "cell_type": "code",
   "source": [
    "import numpy as np\n",
    "data = np.genfromtxt('minutes_n_ingredients.csv', delimiter=',', skip_header=1)\n",
    "print(\"---\")\n",
    "print(data[:10])"
   ],
   "outputs": [
    {
     "name": "stdout",
     "output_type": "stream",
     "text": [
      "---\n",
      "[[1.27244e+05 6.00000e+01 1.60000e+01]\n",
      " [2.38910e+04 2.50000e+01 7.00000e+00]\n",
      " [9.47460e+04 1.00000e+01 6.00000e+00]\n",
      " [6.76600e+04 5.00000e+00 6.00000e+00]\n",
      " [1.57911e+05 6.00000e+01 1.40000e+01]\n",
      " [1.52828e+05 4.00000e+01 7.00000e+00]\n",
      " [3.39410e+04 1.80000e+01 9.00000e+00]\n",
      " [4.46597e+05 1.50000e+01 5.00000e+00]\n",
      " [3.66174e+05 7.00000e+00 9.00000e+00]\n",
      " [7.42050e+04 2.00000e+01 7.00000e+00]]\n"
     ]
    }
   ],
   "execution_count": 13
  },
  {
   "cell_type": "markdown",
   "metadata": {},
   "source": [
    "2. Вычислите среднее значение, минимум, максимум и медиану по каждому из столбцов, кроме первого."
   ]
  },
  {
   "metadata": {
    "ExecuteTime": {
     "end_time": "2024-11-07T16:05:51.564701Z",
     "start_time": "2024-11-07T16:05:51.366809Z"
    }
   },
   "cell_type": "code",
   "source": [
    "import numpy as np\n",
    "data = np.genfromtxt('minutes_n_ingredients.csv', delimiter=',', skip_header=1)\n",
    "IDless_data = data[:, 1:]\n",
    "print(\"---\")\n",
    "mean_values = np.mean(IDless_data, axis=0)\n",
    "min_values = np.min(IDless_data, axis=0)\n",
    "max_values = np.max(IDless_data, axis=0)\n",
    "median_values = np.median(IDless_data, axis=0)\n",
    "print(f\"Mean: {mean_values}\")\n",
    "print(f\"Min: {min_values}\")\n",
    "print(f\"Max: {max_values}\")\n",
    "print(f\"Median: {median_values}\")\n"
   ],
   "outputs": [
    {
     "name": "stdout",
     "output_type": "stream",
     "text": [
      "---\n",
      "Mean: [2.16010017e+04 9.05528000e+00]\n",
      "Min: [0. 1.]\n",
      "Max: [2.14748365e+09 3.90000000e+01]\n",
      "Median: [40.  9.]\n"
     ]
    }
   ],
   "execution_count": 14
  },
  {
   "cell_type": "markdown",
   "metadata": {},
   "source": [
    "3. Посчитайте, для скольких рецептов указана продолжительность, равная нулю. Замените для таких строк значение в данном столбце на 1."
   ]
  },
  {
   "metadata": {
    "ExecuteTime": {
     "end_time": "2024-11-07T16:12:21.141719Z",
     "start_time": "2024-11-07T16:12:20.935964Z"
    }
   },
   "cell_type": "code",
   "source": [
    "import numpy as np\n",
    "data = np.genfromtxt('minutes_n_ingredients.csv', delimiter=',', skip_header=1)\n",
    "zero_minutes_recipies = np.sum(data [:, 1] == 0)\n",
    "print(f\"Zero-minutes recipies count: {zero_minutes_recipies}\")\n",
    "data[:, 1][data[:, 1] == 0] = 1\n",
    "zero_minutes_recipies = np.sum(data[:, 1] == 0)\n",
    "print(f\"Zero-minutes recipies count after replacing: {zero_minutes_recipies}\")"
   ],
   "outputs": [
    {
     "name": "stdout",
     "output_type": "stream",
     "text": [
      "Zero-minutes recipies count: 479\n",
      "Zero-minutes recipies count after replacing: 0\n"
     ]
    }
   ],
   "execution_count": 18
  },
  {
   "cell_type": "markdown",
   "metadata": {},
   "source": [
    "4. Посчитайте, сколько уникальных рецептов находится в датасете."
   ]
  },
  {
   "metadata": {
    "ExecuteTime": {
     "end_time": "2024-11-07T16:16:35.503939Z",
     "start_time": "2024-11-07T16:16:35.303567Z"
    }
   },
   "cell_type": "code",
   "source": [
    "import numpy as np\n",
    "data = np.genfromtxt('minutes_n_ingredients.csv', delimiter=',', skip_header=1)\n",
    "unique_recipies = np.unique(data[:, 0])\n",
    "print(f\"Unique recipies count: {len(unique_recipies)}\")"
   ],
   "outputs": [
    {
     "name": "stdout",
     "output_type": "stream",
     "text": [
      "Unique recipies count: 100000\n"
     ]
    }
   ],
   "execution_count": 21
  },
  {
   "cell_type": "markdown",
   "metadata": {},
   "source": [
    "5. Сколько и каких различных значений кол-ва ингредиентов присутвует в рецептах из датасета?"
   ]
  },
  {
   "metadata": {
    "ExecuteTime": {
     "end_time": "2024-11-07T16:17:17.786254Z",
     "start_time": "2024-11-07T16:17:17.585291Z"
    }
   },
   "cell_type": "code",
   "source": [
    "import numpy as np\n",
    "data = np.genfromtxt('minutes_n_ingredients.csv', delimiter=',', skip_header=1)\n",
    "unique_ingredients = np.unique(data[:, 2])\n",
    "print(f\"Unique ingredients count: {len(unique_ingredients)}\")\n",
    "print(f\"List of unique ingredients: {unique_ingredients}\")\n"
   ],
   "outputs": [
    {
     "name": "stdout",
     "output_type": "stream",
     "text": [
      "Unique ingredients count: 37\n",
      "List of unique ingredients: [ 1.  2.  3.  4.  5.  6.  7.  8.  9. 10. 11. 12. 13. 14. 15. 16. 17. 18.\n",
      " 19. 20. 21. 22. 23. 24. 25. 26. 27. 28. 29. 30. 31. 32. 33. 34. 35. 37.\n",
      " 39.]\n"
     ]
    }
   ],
   "execution_count": 22
  },
  {
   "cell_type": "markdown",
   "metadata": {},
   "source": [
    "6. Создайте версию массива, содержащую информацию только о рецептах, состоящих не более чем из 5 ингредиентов."
   ]
  },
  {
   "metadata": {
    "ExecuteTime": {
     "end_time": "2024-11-07T16:20:16.952386Z",
     "start_time": "2024-11-07T16:20:16.745782Z"
    }
   },
   "cell_type": "code",
   "source": [
    "import numpy as np\n",
    "print(\"---\")\n",
    "data = np.genfromtxt('minutes_n_ingredients.csv', delimiter=',', skip_header=1)\n",
    "recipies_less_than_five = data[data[:, 2] <= 5]\n",
    "print(f\"Recipies less than five ingredients count (first 10): {recipies_less_than_five[:10]}\")"
   ],
   "outputs": [
    {
     "name": "stdout",
     "output_type": "stream",
     "text": [
      "---\n",
      "Recipies less than five ingredients count (first 10): [[4.46597e+05 1.50000e+01 5.00000e+00]\n",
      " [2.04134e+05 5.00000e+00 3.00000e+00]\n",
      " [2.56230e+04 6.00000e+00 4.00000e+00]\n",
      " [4.84223e+05 1.80000e+01 4.00000e+00]\n",
      " [6.31500e+04 2.50000e+02 4.00000e+00]\n",
      " [7.04530e+04 2.50000e+01 4.00000e+00]\n",
      " [6.68420e+04 2.00000e+00 4.00000e+00]\n",
      " [3.37928e+05 5.50000e+01 4.00000e+00]\n",
      " [1.40245e+05 5.00000e+00 5.00000e+00]\n",
      " [7.53130e+04 6.03000e+02 5.00000e+00]]\n"
     ]
    }
   ],
   "execution_count": 26
  },
  {
   "cell_type": "markdown",
   "metadata": {},
   "source": [
    "7. Для каждого рецепта посчитайте, сколько в среднем ингредиентов приходится на одну минуту рецепта. Найдите максимальное значение этой величины для всего датасета"
   ]
  },
  {
   "metadata": {
    "ExecuteTime": {
     "end_time": "2024-11-07T16:26:16.159490Z",
     "start_time": "2024-11-07T16:26:15.969844Z"
    }
   },
   "cell_type": "code",
   "source": [
    "import numpy as np\n",
    "print(\"---\")\n",
    "data = np.genfromtxt('minutes_n_ingredients.csv', delimiter=',', skip_header=1)\n",
    "data[:, 1][data[:, 1] == 0] = 1 #избежать деление на ноль\n",
    "minutes = data[:, 1]\n",
    "ingredients = data[:, 2]\n",
    "ingredients_per_minute = ingredients / minutes\n",
    "print(f\"Ingredients per minute (first 10): {ingredients_per_minute[:10]}\")\n",
    "print(f\"Max ingredients per minute: {np.max(ingredients_per_minute)}\")\n"
   ],
   "outputs": [
    {
     "name": "stdout",
     "output_type": "stream",
     "text": [
      "---\n",
      "Ingredients per minute (first 10): [0.26666667 0.28       0.6        1.2        0.23333333 0.175\n",
      " 0.5        0.33333333 1.28571429 0.35      ]\n",
      "Max ingredients per minute: 24.0\n"
     ]
    }
   ],
   "execution_count": 29
  },
  {
   "cell_type": "markdown",
   "metadata": {},
   "source": [
    "8. Вычислите среднее количество ингредиентов для топ-100 рецептов с наибольшей продолжительностью"
   ]
  },
  {
   "metadata": {
    "ExecuteTime": {
     "end_time": "2024-11-07T16:32:11.348850Z",
     "start_time": "2024-11-07T16:32:11.143572Z"
    }
   },
   "cell_type": "code",
   "source": [
    "import numpy as np\n",
    "print(\"---\")\n",
    "data = np.genfromtxt('minutes_n_ingredients.csv', delimiter=',', skip_header=1)\n",
    "sorted_data = data[data[:, 1].argsort()[::-1]]\n",
    "top_100_by_minutes = sorted_data[:100]\n",
    "print(f\"Average ingredient count in top 100 recipies by longevity: {np.average(top_100_by_minutes[:, 2])}\")"
   ],
   "outputs": [
    {
     "name": "stdout",
     "output_type": "stream",
     "text": [
      "---\n",
      "Average ingredient count in top 100 recipies by longevity: 6.63\n"
     ]
    }
   ],
   "execution_count": 32
  },
  {
   "cell_type": "markdown",
   "metadata": {},
   "source": [
    "9. Выберите случайным образом и выведите информацию о 10 различных рецептах"
   ]
  },
  {
   "metadata": {
    "ExecuteTime": {
     "end_time": "2024-11-07T16:36:19.370765Z",
     "start_time": "2024-11-07T16:36:19.174178Z"
    }
   },
   "cell_type": "code",
   "source": [
    "import numpy as np\n",
    "print(\"---\")\n",
    "data = np.genfromtxt('minutes_n_ingredients.csv', delimiter=',', skip_header=1)\n",
    "data_random = data[np.random.choice(data.shape[0], size = 10, replace = False)]\n",
    "print(f\"Random recipies: {data_random}\")\n"
   ],
   "outputs": [
    {
     "name": "stdout",
     "output_type": "stream",
     "text": [
      "---\n",
      "Random recipies: [[8.79780e+04 6.00000e+01 1.00000e+01]\n",
      " [1.63301e+05 5.00000e+01 1.00000e+01]\n",
      " [4.82061e+05 3.00000e+01 1.60000e+01]\n",
      " [4.91977e+05 4.00000e+01 1.20000e+01]\n",
      " [3.99560e+04 5.00000e+00 3.00000e+00]\n",
      " [4.12524e+05 6.00000e+01 7.00000e+00]\n",
      " [4.42947e+05 2.00000e+01 1.00000e+01]\n",
      " [2.49806e+05 3.00000e+01 1.10000e+01]\n",
      " [1.51557e+05 7.40000e+02 1.20000e+01]\n",
      " [1.54265e+05 9.00000e+01 7.00000e+00]]\n"
     ]
    }
   ],
   "execution_count": 34
  },
  {
   "cell_type": "markdown",
   "metadata": {},
   "source": [
    "10. Выведите процент рецептов, кол-во ингредиентов в которых меньше среднего."
   ]
  },
  {
   "metadata": {
    "ExecuteTime": {
     "end_time": "2024-11-07T16:40:51.046520Z",
     "start_time": "2024-11-07T16:40:50.851565Z"
    }
   },
   "cell_type": "code",
   "source": [
    "import numpy as np\n",
    "print(\"---\")\n",
    "data = np.genfromtxt('minutes_n_ingredients.csv', delimiter=',', skip_header=1)\n",
    "avg_ingredients = np.average(data[:, 2])\n",
    "print(f\"Average ingredient count: {avg_ingredients}\")\n",
    "less_than_avg_ingredients = data[data[:, 2] < avg_ingredients]\n",
    "percentage = (len(less_than_avg_ingredients) / data.shape[0]) * 100\n",
    "print(f\"Percentage: {percentage}%\")"
   ],
   "outputs": [
    {
     "name": "stdout",
     "output_type": "stream",
     "text": [
      "---\n",
      "Average ingredient count: 9.05528\n",
      "Percentage: 58.802%\n"
     ]
    }
   ],
   "execution_count": 38
  },
  {
   "cell_type": "markdown",
   "metadata": {},
   "source": [
    "11. Назовем \"простым\" такой рецепт, длительность выполнения которого не больше 20 минут и кол-во ингредиентов в котором не больше 5. Создайте версию датасета с дополнительным столбцом, значениями которого являются 1, если рецепт простой, и 0 в противном случае."
   ]
  },
  {
   "metadata": {
    "ExecuteTime": {
     "end_time": "2024-11-07T16:46:49.577094Z",
     "start_time": "2024-11-07T16:46:49.375686Z"
    }
   },
   "cell_type": "code",
   "source": [
    "import numpy as np\n",
    "print(\"---\")\n",
    "data = np.genfromtxt('minutes_n_ingredients.csv', delimiter=',', skip_header=1)\n",
    "is_simple = (data[:, 1] <= 20) & (data[:, 2] <= 5)\n",
    "data_with_flag = np.column_stack((data, is_simple.astype(int)))\n",
    "print(f\"Data with 'is simple' flag (first 10 rows): {data_with_flag[:10]}\")"
   ],
   "outputs": [
    {
     "name": "stdout",
     "output_type": "stream",
     "text": [
      "---\n",
      "Data with 'is simple' flag (first 10 rows): [[1.27244e+05 6.00000e+01 1.60000e+01 0.00000e+00]\n",
      " [2.38910e+04 2.50000e+01 7.00000e+00 0.00000e+00]\n",
      " [9.47460e+04 1.00000e+01 6.00000e+00 0.00000e+00]\n",
      " [6.76600e+04 5.00000e+00 6.00000e+00 0.00000e+00]\n",
      " [1.57911e+05 6.00000e+01 1.40000e+01 0.00000e+00]\n",
      " [1.52828e+05 4.00000e+01 7.00000e+00 0.00000e+00]\n",
      " [3.39410e+04 1.80000e+01 9.00000e+00 0.00000e+00]\n",
      " [4.46597e+05 1.50000e+01 5.00000e+00 1.00000e+00]\n",
      " [3.66174e+05 7.00000e+00 9.00000e+00 0.00000e+00]\n",
      " [7.42050e+04 2.00000e+01 7.00000e+00 0.00000e+00]]\n"
     ]
    }
   ],
   "execution_count": 40
  },
  {
   "cell_type": "markdown",
   "metadata": {},
   "source": [
    "12. Выведите процент \"простых\" рецептов в датасете"
   ]
  },
  {
   "metadata": {
    "ExecuteTime": {
     "end_time": "2024-11-08T11:52:43.138411Z",
     "start_time": "2024-11-08T11:52:42.992438Z"
    }
   },
   "cell_type": "code",
   "source": [
    "%%time\n",
    "import numpy as np\n",
    "print(\"---\")\n",
    "data = np.genfromtxt('minutes_n_ingredients.csv', delimiter=',', skip_header=1)\n",
    "is_simple = (data[:, 1] <= 20) & (data[:, 2] <= 5)\n",
    "is_simple_count = np.count_nonzero(is_simple)\n",
    "print(f\"Percentage of simple recipies: {is_simple_count/data.shape[0] * 100}%\")"
   ],
   "outputs": [
    {
     "name": "stdout",
     "output_type": "stream",
     "text": [
      "---\n",
      "Percentage of simple recipies: 9.552%\n",
      "CPU times: user 103 ms, sys: 17.7 ms, total: 120 ms\n",
      "Wall time: 131 ms\n"
     ]
    }
   ],
   "execution_count": 2
  },
  {
   "metadata": {},
   "cell_type": "code",
   "outputs": [],
   "execution_count": null,
   "source": ""
  }
 ],
 "metadata": {
  "kernelspec": {
   "display_name": "Python 3",
   "language": "python",
   "name": "python3"
  },
  "language_info": {
   "codemirror_mode": {
    "name": "ipython",
    "version": 3
   },
   "file_extension": ".py",
   "mimetype": "text/x-python",
   "name": "python",
   "nbconvert_exporter": "python",
   "pygments_lexer": "ipython3",
   "version": "3.8.8"
  }
 },
 "nbformat": 4,
 "nbformat_minor": 4
}

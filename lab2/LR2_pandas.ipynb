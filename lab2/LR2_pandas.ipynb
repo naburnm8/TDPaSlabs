{
 "cells": [
  {
   "cell_type": "markdown",
   "metadata": {},
   "source": [
    "# Pandas"
   ]
  },
  {
   "cell_type": "markdown",
   "metadata": {},
   "source": [
    "Полезные ссылки:\n",
    "* https://pandas.pydata.org/docs/user_guide/index.html\n",
    "* https://pandas.pydata.org/docs/reference/index.html"
   ]
  },
  {
   "cell_type": "markdown",
   "metadata": {},
   "source": [
    "### Задачи"
   ]
  },
  {
   "cell_type": "markdown",
   "metadata": {},
   "source": [
    "1. В файлах `recipes_sample.csv` и `reviews_sample.csv` находится информация об рецептах блюд и отзывах на эти рецепты соответственно. Загрузите данные из файлов в виде `pd.DataFrame` с названиями `recipes` и `reviews`. Обратите внимание на корректное считывание столбца(ов) с индексами."
   ]
  },
  {
   "metadata": {
    "ExecuteTime": {
     "end_time": "2024-11-07T17:00:50.229925Z",
     "start_time": "2024-11-07T17:00:49.736252Z"
    }
   },
   "cell_type": "code",
   "source": [
    "import pandas as pd\n",
    "recipes = pd.read_csv('recipes_sample.csv', index_col=1)\n",
    "reviews = pd.read_csv('reviews_sample.csv', index_col=0)\n",
    "\n",
    "print(recipes.head())\n",
    "print(\"-----\")\n",
    "print(reviews.head())"
   ],
   "outputs": [
    {
     "name": "stdout",
     "output_type": "stream",
     "text": [
      "                                           name  minutes  contributor_id  \\\n",
      "id                                                                         \n",
      "44123     george s at the cove  black bean soup       90           35193   \n",
      "67664        healthy for them  yogurt popsicles       10           91970   \n",
      "38798              i can t believe it s spinach       30            1533   \n",
      "35173                      italian  gut busters       45           22724   \n",
      "84797  love is in the air  beef fondue   sauces       25            4470   \n",
      "\n",
      "        submitted  n_steps                                        description  \\\n",
      "id                                                                              \n",
      "44123  2002-10-25      NaN  an original recipe created by chef scott meska...   \n",
      "67664  2003-07-26      NaN  my children and their friends ask for my homem...   \n",
      "38798  2002-08-29      NaN            these were so go, it surprised even me.   \n",
      "35173  2002-07-27      NaN  my sister-in-law made these for us at a family...   \n",
      "84797  2004-02-23      4.0  i think a fondue is a very romantic casual din...   \n",
      "\n",
      "       n_ingredients  \n",
      "id                    \n",
      "44123           18.0  \n",
      "67664            NaN  \n",
      "38798            8.0  \n",
      "35173            NaN  \n",
      "84797            NaN  \n",
      "-----\n",
      "              user_id  recipe_id        date  rating  \\\n",
      "review_id                                              \n",
      "370476          21752      57993  01/05/2003       5   \n",
      "624300         431813     142201  16/09/2007       5   \n",
      "187037         400708     252013  10/01/2008       4   \n",
      "706134     2001852463     404716  11/12/2017       5   \n",
      "312179          95810     129396  14/03/2008       5   \n",
      "\n",
      "                                                      review  \n",
      "review_id                                                     \n",
      "370476     Last week whole sides of frozen salmon fillet ...  \n",
      "624300     So simple and so tasty!  I used a yellow capsi...  \n",
      "187037     Very nice breakfast HH, easy to make and yummy...  \n",
      "706134     These are a favorite for the holidays and so e...  \n",
      "312179     Excellent soup!  The tomato flavor is just gre...  \n"
     ]
    }
   ],
   "execution_count": 3
  },
  {
   "cell_type": "markdown",
   "metadata": {},
   "source": [
    "2. Для каждой из таблиц выведите основные параметры:\n",
    "* количество точек данных (строк);\n",
    "* количество столбцов;\n",
    "* тип данных каждого столбца."
   ]
  },
  {
   "metadata": {
    "ExecuteTime": {
     "end_time": "2024-11-07T17:05:18.382777Z",
     "start_time": "2024-11-07T17:05:17.886562Z"
    }
   },
   "cell_type": "code",
   "source": [
    "import pandas as pd\n",
    "recipes = pd.read_csv('recipes_sample.csv', index_col=1)\n",
    "reviews = pd.read_csv('reviews_sample.csv', index_col=0)\n",
    "print(f\"Recipes:\"\n",
    "      f\"\\ncols: {recipes.shape[1]}\"\n",
    "      f\"\\nrows: {recipes.shape[0]}\"\n",
    "      f\"\\ndtypes:\\n{recipes.dtypes}\")\n",
    "print(\"---\")\n",
    "print(f\"Reviews:\"\n",
    "      f\"\\ncols: {reviews.shape[1]}\"\n",
    "      f\"\\nrows: {reviews.shape[0]}\"\n",
    "      f\"\\ndtypes:\\n{reviews.dtypes}\")"
   ],
   "outputs": [
    {
     "name": "stdout",
     "output_type": "stream",
     "text": [
      "Recipes:\n",
      "cols: 7\n",
      "rows: 30000\n",
      "dtypes:\n",
      "name               object\n",
      "minutes             int64\n",
      "contributor_id      int64\n",
      "submitted          object\n",
      "n_steps           float64\n",
      "description        object\n",
      "n_ingredients     float64\n",
      "dtype: object\n",
      "---\n",
      "Reviews:\n",
      "cols: 5\n",
      "rows: 126696\n",
      "dtypes:\n",
      "user_id       int64\n",
      "recipe_id     int64\n",
      "date         object\n",
      "rating        int64\n",
      "review       object\n",
      "dtype: object\n"
     ]
    }
   ],
   "execution_count": 9
  },
  {
   "cell_type": "markdown",
   "metadata": {},
   "source": [
    "3. Исследуйте, в каких столбцах таблиц содержатся пропуски. Посчитайте долю строк, содержащих пропуски, в отношении к общему количеству строк."
   ]
  },
  {
   "metadata": {
    "ExecuteTime": {
     "end_time": "2024-11-07T17:18:33.220532Z",
     "start_time": "2024-11-07T17:18:32.700279Z"
    }
   },
   "cell_type": "code",
   "source": [
    "import pandas as pd\n",
    "recipes = pd.read_csv('recipes_sample.csv', index_col=1)\n",
    "reviews = pd.read_csv('reviews_sample.csv', index_col=0)\n",
    "print(f\"Quantity of rows with Null in recipes: {len(recipes[recipes.isnull().any(axis=1)])}\")\n",
    "print(f\"Quantity of rows with Null in reviews: {len(reviews[reviews.isnull().any(axis=1)])}\")\n",
    "print(f\"Percentage of rows with Null in recipes: {len(recipes[recipes.isnull().any(axis=1)]) / recipes.shape[0] * 100}%\")\n",
    "print(f\"Percentage of rows with Null in reviews: {len(reviews[reviews.isnull().any(axis=1)]) / reviews.shape[0] * 100}%\")"
   ],
   "outputs": [
    {
     "name": "stdout",
     "output_type": "stream",
     "text": [
      "Quantity of rows with Null in recipes: 17054\n",
      "Quantity of rows with Null in reviews: 17\n",
      "Percentage of rows with Null in recipes: 56.846666666666664%\n",
      "Percentage of rows with Null in reviews: 0.013417945317926377%\n"
     ]
    }
   ],
   "execution_count": 17
  },
  {
   "cell_type": "markdown",
   "metadata": {},
   "source": [
    "4. Рассчитайте среднее значение для каждого из числовых столбцов (где это имеет смысл)."
   ]
  },
  {
   "metadata": {
    "ExecuteTime": {
     "end_time": "2024-11-07T17:23:57.924722Z",
     "start_time": "2024-11-07T17:23:57.435776Z"
    }
   },
   "cell_type": "code",
   "source": [
    "import pandas as pd\n",
    "recipes = pd.read_csv('recipes_sample.csv', index_col=1)\n",
    "reviews = pd.read_csv('reviews_sample.csv', index_col=0)\n",
    "meaningful_recipes = recipes.drop(columns=['contributor_id'], errors='ignore')\n",
    "meaningful_reviews = reviews.drop(columns=['user_id', 'recipe_id'], errors='ignore')\n",
    "print(f\"Recipes averages: \\n{meaningful_recipes.mean(numeric_only=True)}\")\n",
    "print(f\"Reviews averages: \\n{meaningful_reviews.mean(numeric_only=True)}\")\n"
   ],
   "outputs": [
    {
     "name": "stdout",
     "output_type": "stream",
     "text": [
      "Recipes averages: \n",
      "minutes          123.358133\n",
      "n_steps            9.805582\n",
      "n_ingredients      9.008286\n",
      "dtype: float64\n",
      "Reviews averages: \n",
      "rating    4.410802\n",
      "dtype: float64\n"
     ]
    }
   ],
   "execution_count": 20
  },
  {
   "cell_type": "markdown",
   "metadata": {},
   "source": [
    "5. Выведите информацию о рецептах, время выполнения которых не больше 20 минут и кол-во ингредиентов в которых не больше 5."
   ]
  },
  {
   "metadata": {
    "ExecuteTime": {
     "end_time": "2024-11-07T17:27:11.068726Z",
     "start_time": "2024-11-07T17:27:10.967053Z"
    }
   },
   "cell_type": "code",
   "source": [
    "import pandas as pd\n",
    "recipes = pd.read_csv('recipes_sample.csv', index_col=1)\n",
    "filtered_recipes = recipes[(recipes['minutes'] <= 20) & (recipes['n_ingredients'] <= 5)]\n",
    "print(filtered_recipes.head())"
   ],
   "outputs": [
    {
     "name": "stdout",
     "output_type": "stream",
     "text": [
      "                                              name  minutes  contributor_id  \\\n",
      "id                                                                            \n",
      "302399                         quick biscuit bread       20          213909   \n",
      "303944               peas  fit for a king or queen       20          213909   \n",
      "100837           hawaiian sunrise           mimosa        5           58104   \n",
      "286484  tasty dish s   banana pudding in 2 minutes        2           47892   \n",
      "11361                           1 minute meatballs       13            4470   \n",
      "\n",
      "         submitted  n_steps  \\\n",
      "id                            \n",
      "302399  2008-05-06     11.0   \n",
      "303944  2008-05-16      NaN   \n",
      "100837  2004-09-29      4.0   \n",
      "286484  2008-02-13      NaN   \n",
      "11361   2001-09-03      NaN   \n",
      "\n",
      "                                              description  n_ingredients  \n",
      "id                                                                        \n",
      "302399  this is a wonderful quick bread to make as an ...            5.0  \n",
      "303944  this recipe is so simple and the flavors are s...            5.0  \n",
      "100837  pineapple mimosa was changed to hawaiian sunri...            3.0  \n",
      "286484  \"mmmm, i love bananas!\" a --tasty dish-- origi...            4.0  \n",
      "11361   this is a real short cut for cooks in a hurry....            2.0  \n"
     ]
    }
   ],
   "execution_count": 21
  },
  {
   "cell_type": "markdown",
   "metadata": {},
   "source": [
    "6. Выведите информацию о рецептах, добавленных в датасет не позже 2010 года."
   ]
  },
  {
   "metadata": {
    "ExecuteTime": {
     "end_time": "2024-11-07T17:41:00.700019Z",
     "start_time": "2024-11-07T17:41:00.581739Z"
    }
   },
   "cell_type": "code",
   "source": [
    "import pandas as pd\n",
    "recipes = pd.read_csv('recipes_sample.csv', index_col=1)\n",
    "recipes = recipes.dropna(subset=['submitted'])\n",
    "recipes['submitted'] = pd.to_datetime(recipes['submitted'])\n",
    "recipes_before_2010 = recipes[recipes['submitted'].dt.year < 2010]\n",
    "print(recipes_before_2010.head())\n"
   ],
   "outputs": [
    {
     "name": "stdout",
     "output_type": "stream",
     "text": [
      "                                           name  minutes  contributor_id  \\\n",
      "id                                                                         \n",
      "44123     george s at the cove  black bean soup       90           35193   \n",
      "67664        healthy for them  yogurt popsicles       10           91970   \n",
      "38798              i can t believe it s spinach       30            1533   \n",
      "35173                      italian  gut busters       45           22724   \n",
      "84797  love is in the air  beef fondue   sauces       25            4470   \n",
      "\n",
      "       submitted  n_steps                                        description  \\\n",
      "id                                                                             \n",
      "44123 2002-10-25      NaN  an original recipe created by chef scott meska...   \n",
      "67664 2003-07-26      NaN  my children and their friends ask for my homem...   \n",
      "38798 2002-08-29      NaN            these were so go, it surprised even me.   \n",
      "35173 2002-07-27      NaN  my sister-in-law made these for us at a family...   \n",
      "84797 2004-02-23      4.0  i think a fondue is a very romantic casual din...   \n",
      "\n",
      "       n_ingredients  \n",
      "id                    \n",
      "44123           18.0  \n",
      "67664            NaN  \n",
      "38798            8.0  \n",
      "35173            NaN  \n",
      "84797            NaN  \n"
     ]
    }
   ],
   "execution_count": 31
  },
  {
   "cell_type": "markdown",
   "metadata": {},
   "source": [
    "7.  Добавьте в таблицу `recipes` столбец `description_length`, в котором хранится длина описания рецепта из столбца `description`."
   ]
  },
  {
   "metadata": {
    "ExecuteTime": {
     "end_time": "2024-11-07T17:42:50.953055Z",
     "start_time": "2024-11-07T17:42:50.853038Z"
    }
   },
   "cell_type": "code",
   "source": [
    "import pandas as pd\n",
    "recipes = pd.read_csv('recipes_sample.csv', index_col=1)\n",
    "recipes['description_length'] = recipes['description'].str.len()\n",
    "print(recipes.head())"
   ],
   "outputs": [
    {
     "name": "stdout",
     "output_type": "stream",
     "text": [
      "                                           name  minutes  contributor_id  \\\n",
      "id                                                                         \n",
      "44123     george s at the cove  black bean soup       90           35193   \n",
      "67664        healthy for them  yogurt popsicles       10           91970   \n",
      "38798              i can t believe it s spinach       30            1533   \n",
      "35173                      italian  gut busters       45           22724   \n",
      "84797  love is in the air  beef fondue   sauces       25            4470   \n",
      "\n",
      "        submitted  n_steps                                        description  \\\n",
      "id                                                                              \n",
      "44123  2002-10-25      NaN  an original recipe created by chef scott meska...   \n",
      "67664  2003-07-26      NaN  my children and their friends ask for my homem...   \n",
      "38798  2002-08-29      NaN            these were so go, it surprised even me.   \n",
      "35173  2002-07-27      NaN  my sister-in-law made these for us at a family...   \n",
      "84797  2004-02-23      4.0  i think a fondue is a very romantic casual din...   \n",
      "\n",
      "       n_ingredients  description_length  \n",
      "id                                        \n",
      "44123           18.0               330.0  \n",
      "67664            NaN               255.0  \n",
      "38798            8.0                39.0  \n",
      "35173            NaN               154.0  \n",
      "84797            NaN               587.0  \n"
     ]
    }
   ],
   "execution_count": 32
  },
  {
   "cell_type": "markdown",
   "metadata": {},
   "source": [
    "8. Измените название каждого рецепта в таблице `recipes` таким образом, чтобы каждое слово в названии начиналось с прописной буквы."
   ]
  },
  {
   "metadata": {
    "ExecuteTime": {
     "end_time": "2024-11-07T17:44:43.141084Z",
     "start_time": "2024-11-07T17:44:43.037641Z"
    }
   },
   "cell_type": "code",
   "source": [
    "import pandas as pd\n",
    "recipes = pd.read_csv('recipes_sample.csv', index_col=1)\n",
    "recipes['name'] = recipes['name'].str.lower()\n",
    "print(recipes.head())"
   ],
   "outputs": [
    {
     "name": "stdout",
     "output_type": "stream",
     "text": [
      "                                           name  minutes  contributor_id  \\\n",
      "id                                                                         \n",
      "44123     george s at the cove  black bean soup       90           35193   \n",
      "67664        healthy for them  yogurt popsicles       10           91970   \n",
      "38798              i can t believe it s spinach       30            1533   \n",
      "35173                      italian  gut busters       45           22724   \n",
      "84797  love is in the air  beef fondue   sauces       25            4470   \n",
      "\n",
      "        submitted  n_steps                                        description  \\\n",
      "id                                                                              \n",
      "44123  2002-10-25      NaN  an original recipe created by chef scott meska...   \n",
      "67664  2003-07-26      NaN  my children and their friends ask for my homem...   \n",
      "38798  2002-08-29      NaN            these were so go, it surprised even me.   \n",
      "35173  2002-07-27      NaN  my sister-in-law made these for us at a family...   \n",
      "84797  2004-02-23      4.0  i think a fondue is a very romantic casual din...   \n",
      "\n",
      "       n_ingredients  \n",
      "id                    \n",
      "44123           18.0  \n",
      "67664            NaN  \n",
      "38798            8.0  \n",
      "35173            NaN  \n",
      "84797            NaN  \n"
     ]
    }
   ],
   "execution_count": 33
  },
  {
   "cell_type": "markdown",
   "metadata": {},
   "source": [
    "9. Добавьте в таблицу `recipes` столбец `name_word_count`, в котором хранится количество слов из названии рецепта (считайте, что слова в названии разделяются только пробелами)."
   ]
  },
  {
   "metadata": {
    "ExecuteTime": {
     "end_time": "2024-11-07T17:48:45.804702Z",
     "start_time": "2024-11-07T17:48:45.620653Z"
    }
   },
   "cell_type": "code",
   "source": [
    "import pandas as pd\n",
    "recipes = pd.read_csv('recipes_sample.csv', index_col=1)\n",
    "recipes['name_word_count'] = recipes['name'].str.split(\" \").str.len()\n",
    "print(recipes.head())"
   ],
   "outputs": [
    {
     "name": "stdout",
     "output_type": "stream",
     "text": [
      "                                           name  minutes  contributor_id  \\\n",
      "id                                                                         \n",
      "44123     george s at the cove  black bean soup       90           35193   \n",
      "67664        healthy for them  yogurt popsicles       10           91970   \n",
      "38798              i can t believe it s spinach       30            1533   \n",
      "35173                      italian  gut busters       45           22724   \n",
      "84797  love is in the air  beef fondue   sauces       25            4470   \n",
      "\n",
      "        submitted  n_steps                                        description  \\\n",
      "id                                                                              \n",
      "44123  2002-10-25      NaN  an original recipe created by chef scott meska...   \n",
      "67664  2003-07-26      NaN  my children and their friends ask for my homem...   \n",
      "38798  2002-08-29      NaN            these were so go, it surprised even me.   \n",
      "35173  2002-07-27      NaN  my sister-in-law made these for us at a family...   \n",
      "84797  2004-02-23      4.0  i think a fondue is a very romantic casual din...   \n",
      "\n",
      "       n_ingredients  name_word_count  \n",
      "id                                     \n",
      "44123           18.0                9  \n",
      "67664            NaN                6  \n",
      "38798            8.0                7  \n",
      "35173            NaN                4  \n",
      "84797            NaN               11  \n"
     ]
    }
   ],
   "execution_count": 39
  },
  {
   "cell_type": "markdown",
   "metadata": {},
   "source": [
    "10. Посчитайте количество рецептов, представленных каждым из участников (`contributor_id`). Какой участник добавил максимальное кол-во рецептов?"
   ]
  },
  {
   "metadata": {
    "ExecuteTime": {
     "end_time": "2024-11-07T17:55:41.841338Z",
     "start_time": "2024-11-07T17:55:41.748630Z"
    }
   },
   "cell_type": "code",
   "source": [
    "import pandas as pd\n",
    "recipes = pd.read_csv('recipes_sample.csv', index_col=1)\n",
    "recipes_by_contributor = recipes['contributor_id'].value_counts()\n",
    "max_contributor = recipes_by_contributor.idxmax()\n",
    "print(f\"Contributor id {max_contributor} contributed the most recipes\")\n"
   ],
   "outputs": [
    {
     "name": "stdout",
     "output_type": "stream",
     "text": [
      "Contributor id 89831 contributed the most recipes\n"
     ]
    }
   ],
   "execution_count": 41
  },
  {
   "cell_type": "markdown",
   "metadata": {},
   "source": [
    "11. При помощи объединения таблиц, создайте `DataFrame`, состоящий из четырех столбцов: `id`, `name`, `user_id`, `rating`. Рецепты без отзывов должны отсутствовать в данной таблице. Подтвердите правильность работы вашего кода, выбрав рецепт, не имеющий отзывов, и выведя на экран строку из полученного `DataFrame`, содержащую информацию об этом отзыве."
   ]
  },
  {
   "metadata": {
    "ExecuteTime": {
     "end_time": "2024-11-07T18:15:12.470797Z",
     "start_time": "2024-11-07T18:15:11.872374Z"
    }
   },
   "cell_type": "code",
   "source": [
    "import pandas as pd\n",
    "recipes = pd.read_csv('recipes_sample.csv', index_col=1)\n",
    "reviews = pd.read_csv('reviews_sample.csv', index_col=0)\n",
    "recipes_id = recipes.reset_index()\n",
    "merged = pd.merge(recipes_id[['id', 'name']], reviews[['recipe_id', 'user_id', 'rating']], left_on='id', right_on='recipe_id', how='inner')\n",
    "print(merged.head())\n",
    "print()\n",
    "recipes_without_review = recipes_id[~recipes_id['id'].isin(reviews['recipe_id'])]\n",
    "print(f\"Recipes without review: \\n{recipes_without_review.head()}\")"
   ],
   "outputs": [
    {
     "name": "stdout",
     "output_type": "stream",
     "text": [
      "      id                                   name  recipe_id  user_id  rating\n",
      "0  44123  george s at the cove  black bean soup      44123   743566       5\n",
      "1  44123  george s at the cove  black bean soup      44123    76503       5\n",
      "2  44123  george s at the cove  black bean soup      44123    34206       5\n",
      "3  67664     healthy for them  yogurt popsicles      67664   494084       5\n",
      "4  67664     healthy for them  yogurt popsicles      67664   303445       5\n",
      "\n",
      "Recipes without review: \n",
      "        id                                     name  minutes  contributor_id  \\\n",
      "26  223349            pasta  with shrimp   eggplant       50          452592   \n",
      "29  342620          secret ingredient  bbq meatloaf       75           50969   \n",
      "35  276594        windy s  sweet and sour meatballs       50          341338   \n",
      "49  216068  goulashy  beef stew for the slow cooker      430          446143   \n",
      "59  306590             old bay  grilled steak fries       20          337736   \n",
      "\n",
      "     submitted  n_steps                                        description  \\\n",
      "26  2007-04-18      7.0  a nice low carb way to feel like you are eatin...   \n",
      "29  2008-12-09      9.0  i know what you might be thinking,'ho hum, ano...   \n",
      "35  2008-01-05      6.0  whenever we had a potluck lunch at the office ...   \n",
      "49  2007-03-10      NaN  noodle beef stew in the slow cooker...easy com...   \n",
      "59  2008-05-31      NaN  found this in a magazine, yet to try, but look...   \n",
      "\n",
      "    n_ingredients  \n",
      "26            9.0  \n",
      "29           10.0  \n",
      "35           14.0  \n",
      "49           13.0  \n",
      "59           15.0  \n"
     ]
    }
   ],
   "execution_count": 52
  },
  {
   "metadata": {},
   "cell_type": "code",
   "outputs": [],
   "execution_count": null,
   "source": ""
  }
 ],
 "metadata": {
  "kernelspec": {
   "display_name": "Python 3",
   "language": "python",
   "name": "python3"
  },
  "language_info": {
   "codemirror_mode": {
    "name": "ipython",
    "version": 3
   },
   "file_extension": ".py",
   "mimetype": "text/x-python",
   "name": "python",
   "nbconvert_exporter": "python",
   "pygments_lexer": "ipython3",
   "version": "3.8.8"
  }
 },
 "nbformat": 4,
 "nbformat_minor": 4
}

{
 "cells": [
  {
   "cell_type": "code",
   "id": "initial_id",
   "metadata": {
    "collapsed": true,
    "ExecuteTime": {
     "end_time": "2024-10-14T13:30:07.287179Z",
     "start_time": "2024-10-14T13:30:07.253704Z"
    }
   },
   "source": [
    "\n",
    "from decimal import getcontext\n",
    "from decimal import Decimal\n",
    "\n",
    "\n",
    "class SourceStates: #контейнер, содержащий алфавит сообщения для кодирования (состояния источника и вероятности их появления)\n",
    "    @staticmethod\n",
    "    def create_dict(message: str) -> dict: #статический метод для создания словаря [символ, кол-во появлений]\n",
    "        states = {}\n",
    "        for char in message:\n",
    "            if char not in states:\n",
    "                states[char] = 1\n",
    "            else:\n",
    "                states[char] += 1\n",
    "        return states\n",
    "    @staticmethod\n",
    "    def create_freq_dict(states: dict, message: str) -> dict: #статический метод для создания словаря [символ, вероятность появления символа]\n",
    "        freq_dict = {}\n",
    "        for char, count in states.items():\n",
    "            freq_dict[char] = count / len(message)\n",
    "        return freq_dict\n",
    "    @staticmethod\n",
    "    def create_left_borders_dict(freq_dict: dict) -> dict: #левые границы кодирования (накопительные вероятности)\n",
    "        left_borders_dict = {}\n",
    "        sum_l = 0.0\n",
    "        for char, freq in freq_dict.items():\n",
    "            left_borders_dict[char] = sum_l\n",
    "            sum_l += freq \n",
    "        return left_borders_dict #т.е получаем для каждого символа начало его отрезка внутри [0,1]\n",
    "    def __init__(self, message):\n",
    "        self.states = self.create_dict(message)\n",
    "        self.freq_states = self.create_freq_dict(self.states, message)\n",
    "        self.left_borders_dict = self.create_left_borders_dict(self.freq_states)\n",
    "\n",
    "getcontext().prec = 500 #установка точности (кол-во знаков после запятой)\n",
    "\n",
    "class ArithmeticEncode:\n",
    "    def __init__(self, message: str):\n",
    "        self.message = message\n",
    "        self.left = Decimal(0.0) #левая граница отрезка кодирования c выставленной точностью\n",
    "        self.right = Decimal(1.0) #правая граница отрезка кодирования c выставленной точностью\n",
    "        self.source_states = SourceStates(self.message) #из объекта этого класса получаем все данные о состояниях источника (см. выше)\n",
    "        \n",
    "    def encode(self) -> float:\n",
    "        for char in self.message:\n",
    "            left_border = Decimal(self.source_states.left_borders_dict[char]) #левая граница текущего символа\n",
    "            right_border = Decimal(self.source_states.left_borders_dict[char] + self.source_states.freq_states[char]) #правая граница текущего символа\n",
    "            current_range = self.right - self.left #длина текущего отрезка\n",
    "            self.right = self.left + current_range * right_border #усекаем отрезок в соответствии с правой границей текущего символа\n",
    "            self.left = self.left + current_range * left_border #усекаем отрезок в соответствии с левой границей текущего символа\n",
    "        \n",
    "        return (self.left + self.right) / 2 #возвращаем середину результирующего отрезка\n",
    "class ArithmeticDecode:\n",
    "    def __init__(self, coded_val: float, message_len: int, source_states: SourceStates):\n",
    "        self.coded_val = Decimal(coded_val) #закодированное слово с выставленной точностью\n",
    "        self.message_len = message_len \n",
    "        self.source_states = source_states #из объекта этого класса получаем все данные о состояниях источника (см. выше)\n",
    "        self.right = Decimal(1.0) #левая граница отрезка кодирования c выставленной точностью\n",
    "        self.left = Decimal(0.0) #правая граница отрезка кодирования c выставленной точностью\n",
    "        \n",
    "    def decode(self) -> str:\n",
    "        decoded_message = ''\n",
    "        left_borders = self.source_states.left_borders_dict\n",
    "        freq_dict = self.source_states.freq_states\n",
    "        for i in range(self.message_len):\n",
    "            current_range = self.right - self.left #длина текущего отрезка\n",
    "            if current_range == 0: #выходим из цикла на границе точности чтобы избежать деления на ноль\n",
    "                break\n",
    "            scaled_value = (self.coded_val - self.left) / current_range #приводим закодированное значение к отрезку [0,1]\n",
    "            for char, add_left_freq in left_borders.items():\n",
    "                add_right_freq = add_left_freq + freq_dict[char] #правая граница\n",
    "                if add_left_freq <= scaled_value < add_right_freq: #попадает ли приведенное значение в отрезок текущего символа: если да, то добавляем и обновляем границы, если нет, то идём на следующую итерацию цикла for each\n",
    "                    decoded_message += char\n",
    "                    self.right = self.left + current_range * Decimal(add_right_freq)\n",
    "                    self.left = self.left + current_range * Decimal(add_left_freq)\n",
    "        return decoded_message\n",
    "\n",
    "file = open(r\"..\\cache\\dz\\ex1.txt\", \"r\", encoding=\"utf-8\")\n",
    "data = file.read()\n",
    "file.close()\n",
    "\n",
    "code = ArithmeticEncode(data)\n",
    "decode = ArithmeticDecode(code.encode(), len(data), SourceStates(data))\n",
    "print(f\"Frequencies: {code.source_states.freq_states}\")\n",
    "print(f\"Encoded: {code.encode()}\")\n",
    "print(f\"Decoded: {decode.decode()}\")\n"
   ],
   "outputs": [
    {
     "name": "stdout",
     "output_type": "stream",
     "text": [
      "Frequencies: {'В': 0.004761904761904762, 'с': 0.047619047619047616, 'е': 0.047619047619047616, ' ': 0.1380952380952381, 'и': 0.0380952380952381, 'м': 0.04285714285714286, 'в': 0.05238095238095238, 'о': 0.11428571428571428, 'л': 0.023809523809523808, 'ы': 0.023809523809523808, 'т': 0.05714285714285714, 'а': 0.04285714285714286, 'к': 0.023809523809523808, 'г': 0.004761904761904762, 'ф': 0.004761904761904762, 'п': 0.009523809523809525, 'р': 0.03333333333333333, 'н': 0.0380952380952381, 'у': 0.01904761904761905, '0': 0.04285714285714286, 'д': 0.04285714285714286, '2': 0.004761904761904762, '5': 0.009523809523809525, ',': 0.004761904761904762, 'ж': 0.004761904761904762, '8': 0.004761904761904762, '-': 0.004761904761904762, 'з': 0.004761904761904762, 'я': 0.02857142857142857, 'й': 0.014285714285714285, 'ч': 0.014285714285714285, '1': 0.0380952380952381, '.': 0.009523809523809525, 'Э': 0.004761904761904762}\n",
      "Encoded: 0.000035658094779874371455570522398364280463288767428441380395615464679080977045720352602550215687521690310358868019923468663636178052827972845425078977697252183598825823008733914400718605076956908527435087288836383683582857982224048847880425682316748920503599539306387774700807224434812543654679865216061108087891156682915265779155086421053774127953636744955523279061772433309605231256191023846124194448300904112547737188060703058824417860687599222723193614229870092421786158296223737325784111090421871182\n",
      "Decoded: Все символы такого алфавита пронумерованы от 0 до 255, а каждому номеру соответствует 8-разрядный двоичный код от 00000000 до 11111111. Этот код является порядковым номером символа в двоичной системе счисления.\n"
     ]
    }
   ],
   "execution_count": 32
  },
  {
   "metadata": {
    "ExecuteTime": {
     "end_time": "2024-10-14T12:43:03.259042Z",
     "start_time": "2024-10-14T12:43:03.205553Z"
    }
   },
   "cell_type": "code",
   "source": [
    "from fractions import Fraction\n",
    "from decimal import Decimal\n",
    "\n",
    "class SourceStates:  # контейнер, содержащий алфавит сообщения для кодирования (состояния источника и вероятности их появления)\n",
    "    @staticmethod\n",
    "    def create_dict(message: str) -> dict:  # статический метод для создания словаря [символ, кол-во появлений]\n",
    "        states = {}\n",
    "        for char in message:\n",
    "            if char not in states:\n",
    "                states[char] = 1\n",
    "            else:\n",
    "                states[char] += 1\n",
    "        return states\n",
    "\n",
    "    @staticmethod\n",
    "    def create_freq_dict(states: dict, message: str) -> dict:  # статический метод для создания словаря [символ, вероятность появления символа]\n",
    "        freq_dict = {}\n",
    "        total = len(message)\n",
    "        for char, count in states.items():\n",
    "            freq_dict[char] = Fraction(count, total)  #используем дроби для вероятностей\n",
    "        return freq_dict\n",
    "\n",
    "    @staticmethod\n",
    "    def create_left_borders_dict(freq_dict: dict) -> dict:  # левые границы кодирования (накопительные вероятности)\n",
    "        left_borders_dict = {}\n",
    "        sum_fraction = Fraction(0, 1)  #инициализация дроби 0/1\n",
    "        for char, freq in freq_dict.items():\n",
    "            left_borders_dict[char] = sum_fraction\n",
    "            sum_fraction += freq\n",
    "        return left_borders_dict\n",
    "\n",
    "    def __init__(self, message):\n",
    "        self.states = self.create_dict(message)\n",
    "        self.freq_states = self.create_freq_dict(self.states, message)\n",
    "        self.left_borders_dict = self.create_left_borders_dict(self.freq_states)\n",
    "\n",
    "#КОММЕНТАРИИ К АЛГОРИТМАМ КОДИРОВАНИЯ В ЛИСТИНГЕ ДЛЯ ДЕСЯТИЧНЫХ ДРОБЕЙ\n",
    "class ArithmeticEncode:\n",
    "    def __init__(self, message: str):\n",
    "        self.message = message\n",
    "        self.left = Fraction(0, 1)  #левая граница 0/1 = 0\n",
    "        self.right = Fraction(1, 1)  #правая граница 1/1 = 1\n",
    "        self.source_states = SourceStates(self.message)\n",
    "\n",
    "    def encode(self) -> Fraction:\n",
    "        for char in self.message:\n",
    "            left_border = self.source_states.left_borders_dict[char]\n",
    "            right_border = left_border + self.source_states.freq_states[char]\n",
    "            current_range = self.right - self.left\n",
    "            self.right = self.left + current_range * right_border\n",
    "            self.left = self.left + current_range * left_border\n",
    "\n",
    "        return (self.left + self.right) / 2  #возвращает результат дробью\n",
    "\n",
    "class ArithmeticDecode:\n",
    "    def __init__(self, coded_val: Fraction, message_len: int, source_states: SourceStates):\n",
    "        self.coded_val = coded_val\n",
    "        self.message_len = message_len\n",
    "        self.source_states = source_states\n",
    "        self.right = Fraction(1, 1)  #левая граница 0/1 = 0\n",
    "        self.left = Fraction(0, 1)  #правая граница 1/1 = 1\n",
    "\n",
    "    def decode(self) -> str:\n",
    "        decoded_message = ''\n",
    "        left_borders = self.source_states.left_borders_dict\n",
    "        freq_dict = self.source_states.freq_states\n",
    "        for i in range(self.message_len):\n",
    "            current_range = self.right - self.left\n",
    "            if current_range == 0: \n",
    "                break\n",
    "            scaled_value = (self.coded_val - self.left) / current_range\n",
    "            for char, add_left_freq in left_borders.items():\n",
    "                add_right_freq = add_left_freq + freq_dict[char]\n",
    "                if add_left_freq <= scaled_value < add_right_freq:\n",
    "                    decoded_message += char\n",
    "                    self.right = self.left + current_range * add_right_freq\n",
    "                    self.left = self.left + current_range * add_left_freq\n",
    "        return decoded_message\n",
    "\n",
    "file = open(r\"..\\cache\\dz\\ex1.txt\", \"r\", encoding=\"utf-8\")\n",
    "data = file.read()\n",
    "file.close()\n",
    "\n",
    "code = ArithmeticEncode(data)\n",
    "encoded_value = code.encode()\n",
    "decode = ArithmeticDecode(encoded_value, len(data), SourceStates(data))\n",
    "print(f\"Frequencies: {code.source_states.freq_states}\")\n",
    "print(f\"Encoded: {encoded_value}\")\n",
    "print(f\"Decoded: {decode.decode()}\")"
   ],
   "id": "d5635c45e292bf65",
   "outputs": [
    {
     "name": "stdout",
     "output_type": "stream",
     "text": [
      "Frequencies: {'В': Fraction(1, 210), 'с': Fraction(1, 21), 'е': Fraction(1, 21), ' ': Fraction(29, 210), 'и': Fraction(4, 105), 'м': Fraction(3, 70), 'в': Fraction(11, 210), 'о': Fraction(4, 35), 'л': Fraction(1, 42), 'ы': Fraction(1, 42), 'т': Fraction(2, 35), 'а': Fraction(3, 70), 'к': Fraction(1, 42), 'г': Fraction(1, 210), 'ф': Fraction(1, 210), 'п': Fraction(1, 105), 'р': Fraction(1, 30), 'н': Fraction(4, 105), 'у': Fraction(2, 105), '0': Fraction(3, 70), 'д': Fraction(3, 70), '2': Fraction(1, 210), '5': Fraction(1, 105), ',': Fraction(1, 210), 'ж': Fraction(1, 210), '8': Fraction(1, 210), '-': Fraction(1, 210), 'з': Fraction(1, 210), 'я': Fraction(1, 35), 'й': Fraction(1, 70), 'ч': Fraction(1, 70), '1': Fraction(4, 105), '.': Fraction(1, 105), 'Э': Fraction(1, 210)}\n",
      "Encoded: 27169481178083648933606634944881599161436829055849047125979916490665517679513624102852151984336199875360856669573527456862459171209211303042680167365940585078560959683470508707038612203683456835752967170882643488419090786633313887089664821012406185207903972303592893886578587117235704145995558274008025693770684251682360920275923291469541/761944275088366696077898963040388548037992758779225338422551668483652185651557039908396435438442291395489784540538548978162721225576633899066101257563994550328087229163165445901894459650015485929538384238920499373351192191324992341637829290755508656940211713984325927880012097471573023765856191857892554253339767456054687500000000000000000000\n",
      "Decoded: Все символы такого алфавита пронумерованы от 0 до 255, а каждому номеру соответствует 8-разрядный двоичный код от 00000000 до 11111111. Этот код является порядковым номером символа в двоичной системе счисления.\n"
     ]
    }
   ],
   "execution_count": 27
  },
  {
   "metadata": {
    "ExecuteTime": {
     "end_time": "2024-10-14T13:22:51.526546Z",
     "start_time": "2024-10-14T13:22:51.518552Z"
    }
   },
   "cell_type": "code",
   "source": [
    "file = open(r\"..\\cache\\dz\\ex1.txt\", \"r\", encoding=\"utf-8\")\n",
    "print(file.read())\n",
    "file.close()"
   ],
   "id": "941efb35c637904a",
   "outputs": [
    {
     "name": "stdout",
     "output_type": "stream",
     "text": [
      "Все символы такого алфавита пронумерованы от 0 до 255, а каждому номеру соответствует 8-разрядный двоичный код от 00000000 до 11111111. Этот код является порядковым номером символа в двоичной системе счисления.\n"
     ]
    }
   ],
   "execution_count": 30
  },
  {
   "metadata": {},
   "cell_type": "code",
   "outputs": [],
   "execution_count": null,
   "source": "",
   "id": "f90d9c019bcd825f"
  }
 ],
 "metadata": {
  "kernelspec": {
   "display_name": "Python 3",
   "language": "python",
   "name": "python3"
  },
  "language_info": {
   "codemirror_mode": {
    "name": "ipython",
    "version": 2
   },
   "file_extension": ".py",
   "mimetype": "text/x-python",
   "name": "python",
   "nbconvert_exporter": "python",
   "pygments_lexer": "ipython2",
   "version": "2.7.6"
  }
 },
 "nbformat": 4,
 "nbformat_minor": 5
}

{
 "cells": [
  {
   "cell_type": "code",
   "source": [
    "import base64\n",
    "\n",
    "text_to_code = \"The Zen of Python, by Tim Peters.\\nBeautiful is better than ugly.\\nExplicit is better than implicit.\\nSimple is better than complex.\\nComplex is better than complicated.\\nFlat is better than nested.\\nSparse is better than dense.\\nReadability counts.\\nSpecial cases aren't special enough to break the rules.\\nAlthough practicality beats purity.\\nErrors should never pass silently.\\nUnless explicitly silenced.\\nIn the face of ambiguity, refuse the temptation to guess.\\nThere should be one and preferably only one obvious way to do it.\\nAlthough that way may not be obvious at first unless you're Dutch.\\nNow is better than never.\\nAlthough never is often better than *right* now.\\nIf the implementation is hard to explain, it's a bad idea.\\nIf the implementation is easy to explain, it may be a good idea.\\nNamespaces are one honking great idea let's do more of those!ඞ\""
   ],
   "metadata": {
    "collapsed": false,
    "ExecuteTime": {
     "end_time": "2024-12-07T11:50:34.270056Z",
     "start_time": "2024-12-07T11:50:34.264072Z"
    }
   },
   "id": "3a31e4e1fce31517",
   "outputs": [],
   "execution_count": 2
  },
  {
   "cell_type": "code",
   "source": [
    "from fractions import Fraction\n",
    "\n",
    "class SourceStates:\n",
    "    @staticmethod\n",
    "    def create_dict(message: str) -> dict:\n",
    "        states = {}\n",
    "        for char in message:\n",
    "            if char not in states:\n",
    "                states[char] = 1\n",
    "            else:\n",
    "                states[char] += 1\n",
    "        return states\n",
    "\n",
    "    @staticmethod\n",
    "    def create_freq_dict(states: dict, message: str) -> dict:\n",
    "        freq_dict = {}\n",
    "        total = len(message)\n",
    "        for char, count in states.items():\n",
    "            freq_dict[char] = Fraction(count, total)\n",
    "        return freq_dict\n",
    "\n",
    "    @staticmethod\n",
    "    def create_left_borders_dict(freq_dict: dict) -> dict:\n",
    "        left_borders_dict = {}\n",
    "        sum_fraction = Fraction(0, 1)\n",
    "        for char, freq in freq_dict.items():\n",
    "            left_borders_dict[char] = sum_fraction\n",
    "            sum_fraction += freq\n",
    "        return left_borders_dict\n",
    "\n",
    "    def __init__(self, message):\n",
    "        self.states = self.create_dict(message)\n",
    "        self.freq_states = self.create_freq_dict(self.states, message)\n",
    "        self.left_borders_dict = self.create_left_borders_dict(self.freq_states)\n",
    "\n",
    "\n",
    "class ArithmeticEncode:\n",
    "    def __init__(self, message: str):\n",
    "        self.message = message\n",
    "        self.left = Fraction(0, 1)\n",
    "        self.right = Fraction(1, 1)\n",
    "        self.source_states = SourceStates(self.message)\n",
    "\n",
    "    def encode(self) -> Fraction:\n",
    "        for char in self.message:\n",
    "            left_border = self.source_states.left_borders_dict[char]\n",
    "            right_border = left_border + self.source_states.freq_states[char]\n",
    "            current_range = self.right - self.left\n",
    "            self.right = self.left + current_range * right_border\n",
    "            self.left = self.left + current_range * left_border\n",
    "\n",
    "        return (self.left + self.right) / 2\n",
    "\n",
    "class ArithmeticDecode:\n",
    "    def __init__(self, coded_val: Fraction, source_states: SourceStates, stop_symbol: str):\n",
    "        self.stop_symbol = stop_symbol\n",
    "        self.coded_val = coded_val\n",
    "        self.source_states = source_states\n",
    "        self.right = Fraction(1, 1)\n",
    "        self.left = Fraction(0, 1)\n",
    "\n",
    "    def decode(self) -> str:\n",
    "        decoded_message = ''\n",
    "        left_borders = self.source_states.left_borders_dict\n",
    "        freq_dict = self.source_states.freq_states\n",
    "        found_stop_symbol = False\n",
    "        while not found_stop_symbol:\n",
    "            current_range = self.right - self.left\n",
    "            if current_range == 0:\n",
    "                break\n",
    "            scaled_value = (self.coded_val - self.left) / current_range\n",
    "            for char, add_left_freq in left_borders.items():\n",
    "                add_right_freq = add_left_freq + freq_dict[char]\n",
    "                if add_left_freq <= scaled_value < add_right_freq:\n",
    "                    if char == self.stop_symbol:\n",
    "                        found_stop_symbol = True\n",
    "                        break\n",
    "                    decoded_message += char\n",
    "                    self.right = self.left + current_range * add_right_freq\n",
    "                    self.left = self.left + current_range * add_left_freq\n",
    "        return decoded_message\n",
    "\n",
    "code = ArithmeticEncode(text_to_code)\n",
    "encoded_value = code.encode()\n",
    "decode = ArithmeticDecode(encoded_value, SourceStates(text_to_code), \"ඞ\")\n",
    "print(f\"Frequencies: {code.source_states.freq_states}\")\n",
    "print(f\"Encoded: {encoded_value}\")\n",
    "print(f\"Decoded: {decode.decode()}\")"
   ],
   "metadata": {
    "collapsed": false,
    "ExecuteTime": {
     "end_time": "2024-12-07T11:50:34.709175Z",
     "start_time": "2024-12-07T11:50:34.271055Z"
    }
   },
   "id": "a6dc87b30105f82a",
   "outputs": [
    {
     "name": "stdout",
     "output_type": "stream",
     "text": [
      "Frequencies: {'T': Fraction(3, 850), 'h': Fraction(31, 850), 'e': Fraction(9, 85), ' ': Fraction(123, 850), 'Z': Fraction(1, 850), 'n': Fraction(4, 85), 'o': Fraction(43, 850), 'f': Fraction(11, 850), 'P': Fraction(1, 425), 'y': Fraction(1, 50), 't': Fraction(38, 425), ',': Fraction(2, 425), 'b': Fraction(2, 85), 'i': Fraction(1, 17), 'm': Fraction(8, 425), 'r': Fraction(16, 425), 's': Fraction(43, 850), '.': Fraction(19, 850), '\\n': Fraction(19, 850), 'B': Fraction(1, 850), 'a': Fraction(1, 17), 'u': Fraction(2, 85), 'l': Fraction(33, 850), 'g': Fraction(11, 850), 'E': Fraction(1, 425), 'x': Fraction(3, 425), 'p': Fraction(2, 85), 'c': Fraction(8, 425), 'S': Fraction(3, 850), 'C': Fraction(1, 850), 'd': Fraction(8, 425), 'F': Fraction(1, 850), 'R': Fraction(1, 850), \"'\": Fraction(2, 425), 'k': Fraction(1, 425), 'A': Fraction(3, 850), 'v': Fraction(1, 170), 'U': Fraction(1, 850), 'I': Fraction(3, 850), 'w': Fraction(2, 425), 'D': Fraction(1, 850), 'N': Fraction(1, 425), '*': Fraction(1, 425), '!': Fraction(1, 850), 'ඞ': Fraction(1, 850)}\n",
      "Encoded: 340141555261966861319030913257618235528253175570195733450382427975116102789635810059274640824579386115869269428516068697182276340124700274609680029514041104442340075239003379259450549873439778462566290727747475912700296027969791908092327533487239962674503241647663628099973827608544752484947979895213377281929964041100516137811141313143319211006228749902086197219022896342094106036427569079182858539424782967048784760135998491812602708415187410859918363788089499231947363739856313041165761664189231207113809869976371681399029957206470416605663532786242085520021443208783923825445469493710092661537631578001606728830303136238454744907709177906947512117692050760125774178322890260829860905154285374942505197170436228487267347573138377465693301575731586305328067666412856354467240486768105965679642580236544691347504552543650151963999998991933620706000719866748014630720102946311118078640279374430179307096054141349504347528937615006711724940660912111659996919191637315191682008695495691163840220104840407802537166128571664693624599262079287918981503272711801761966631823399619105250198418814032636306745488674749650349166760905151303108669066347995443975690177393560920502883950712394420106092840171079665747666807077106670606937536407879454048304967590386534726214039728761829725088514779719625131443232701905582194594320605268130239074554282516120186790710945340120086851110360772868962348788623560746771247923084960231993313366301900544802480129527353311883013858179298987215024830960135702479071410341543851356030836768988379232622962862359491441016896203119164172759200356498202975989227748681801080779185898109061784536648829719873235090615765384289051688477864295048077179482389952097832605693105621925910131108994658814815733577911043347000001746055405081649933623080683160231250979322062094773285199036525281886274164378424433414033444189860565580387825064684118409112095143269987247480463802722724171933332142238671991225554301/16866195741786141280203796370786191984268299215391018105807413711419519132052364907444994294092692234637291108045089811487636252933807548825265808722098823958394857831415569108362328613607155021126198398510793550059034810591088140857174864351928201762630622917462585190749755235704427163980772180452390562743466696650432822750187796520278634213170515685875772091215312169374682977765341588288645998100034035384145370955271107090955171049929110638104130592046480328999288011281505227576043176404019621970141911469677407279250220118309550790677388875954877575701237412049192622274116888985325229978489097150239259470959713527584721224752288203332349182330860427289227088409703859260042660112860468911925528248243012370208722269997655115904349840826564334348796702799510408042098010253474627991033606631972186878513647223524523713440270199925567835928038184982179336350007392418698729563022152314675257264780443326057194108754784227567244978335770417175985369255419697100152157710963812098163387235693592602554574446377961271471300461294708233160044357918286443598749047049741968935115283770546758856438384745410566146631934388715084062712082192774602456477202881474254573895956048344543134545736730568785858957965932545468016763981347978140230148738051167554856473456945904611814814043942968722294749630792843549451019276758981378584369138429312878743285870588272774379819924510204940433498781399226947888164767846331826234497872150935133884948866559910902343931090031426956463625382092883727784421734737202154974225228199460766643844875299803220209310049414197816863742076426392403726361263026580504490667831459551667823984319801014965066659681192288634769349150549269736291822170240360143022968926287083963742696447735747386929040783311267673751657731357784913581552741413445947582258666107795058311420318050532848528177124581065336957060658086696950055086774412424273751888493895140120351844661983342632538551697507500648498535156250000000\n",
      "Decoded: The Zen of Python, by Tim Peters.\n",
      "Beautiful is better than ugly.\n",
      "Explicit is better than implicit.\n",
      "Simple is better than complex.\n",
      "Complex is better than complicated.\n",
      "Flat is better than nested.\n",
      "Sparse is better than dense.\n",
      "Readability counts.\n",
      "Special cases aren't special enough to break the rules.\n",
      "Although practicality beats purity.\n",
      "Errors should never pass silently.\n",
      "Unless explicitly silenced.\n",
      "In the face of ambiguity, refuse the temptation to guess.\n",
      "There should be one and preferably only one obvious way to do it.\n",
      "Although that way may not be obvious at first unless you're Dutch.\n",
      "Now is better than never.\n",
      "Although never is often better than *right* now.\n",
      "If the implementation is hard to explain, it's a bad idea.\n",
      "If the implementation is easy to explain, it may be a good idea.\n",
      "Namespaces are one honking great idea let's do more of those!\n"
     ]
    }
   ],
   "execution_count": 3
  },
  {
   "cell_type": "code",
   "source": [
    "import heapq\n",
    "from collections import Counter\n",
    "\n",
    "class Node:\n",
    "\n",
    "    def __init__(self, char: str, freq: float):\n",
    "        self.char = char\n",
    "        self.freq = freq\n",
    "        self.left = None\n",
    "        self.right = None\n",
    "\n",
    "    def __lt__(self, other):\n",
    "        return self.freq < other.freq\n",
    "\n",
    "def build_huffman_tree(frequencies: dict) -> Node:\n",
    "    heap = [Node(char, freq) for char, freq in frequencies.items()]\n",
    "    heapq.heapify(heap)\n",
    "\n",
    "    while len(heap) > 1:\n",
    "        node1 = heapq.heappop(heap)\n",
    "        node2 = heapq.heappop(heap)\n",
    "        merged = Node(None, node1.freq + node2.freq)\n",
    "        merged.left = node1\n",
    "        merged.right = node2\n",
    "        heapq.heappush(heap, merged)\n",
    "    return heap[0]\n",
    "\n",
    "def generate_huffman_codes(node, prefix: str='', huffman_codes: dict = {}) -> dict:\n",
    "    if node is None:\n",
    "        return\n",
    "    if node.char is not None:\n",
    "        huffman_codes[node.char] = prefix\n",
    "    else:\n",
    "        generate_huffman_codes(node.left, prefix + '0', huffman_codes)\n",
    "        generate_huffman_codes(node.right, prefix + '1', huffman_codes)\n",
    "    return huffman_codes\n",
    "\n",
    "def huffman_encoding(message: str) -> tuple:\n",
    "    frequencies = Counter(message)\n",
    "    root = build_huffman_tree(frequencies)\n",
    "    huffman_codes = generate_huffman_codes(root)\n",
    "    encoded_text = ''.join([huffman_codes[char] for char in message])\n",
    "    return encoded_text, huffman_codes\n",
    "\n",
    "def huffman_decoding(encoded_text: str, huffman_codes: dict) -> str:\n",
    "    reverse_huffman_codes = {code: char for char, code in huffman_codes.items()}\n",
    "    decoded_message = \"\"\n",
    "    current_code = \"\"\n",
    "    for bit in encoded_text:\n",
    "        current_code += bit\n",
    "        if current_code in reverse_huffman_codes:\n",
    "            decoded_message += reverse_huffman_codes[current_code]\n",
    "            current_code = \"\"\n",
    "    return decoded_message\n",
    "\n",
    "message = text_to_code\n",
    "encoded_text, huffman_codes = huffman_encoding(message)\n",
    "decoded_text = huffman_decoding(encoded_text, huffman_codes)\n",
    "print(f\"{message}\")\n",
    "print(f\"Characters' codes: {huffman_codes}\")\n",
    "print(f\"Encoded: {encoded_text}\")\n",
    "print(f\"Decoded: {decoded_text}\")"
   ],
   "metadata": {
    "collapsed": false,
    "ExecuteTime": {
     "end_time": "2024-12-07T11:50:34.725134Z",
     "start_time": "2024-12-07T11:50:34.710174Z"
    }
   },
   "id": "18a5f59f37bf8717",
   "outputs": [
    {
     "name": "stdout",
     "output_type": "stream",
     "text": [
      "The Zen of Python, by Tim Peters.\n",
      "Beautiful is better than ugly.\n",
      "Explicit is better than implicit.\n",
      "Simple is better than complex.\n",
      "Complex is better than complicated.\n",
      "Flat is better than nested.\n",
      "Sparse is better than dense.\n",
      "Readability counts.\n",
      "Special cases aren't special enough to break the rules.\n",
      "Although practicality beats purity.\n",
      "Errors should never pass silently.\n",
      "Unless explicitly silenced.\n",
      "In the face of ambiguity, refuse the temptation to guess.\n",
      "There should be one and preferably only one obvious way to do it.\n",
      "Although that way may not be obvious at first unless you're Dutch.\n",
      "Now is better than never.\n",
      "Although never is often better than *right* now.\n",
      "If the implementation is hard to explain, it's a bad idea.\n",
      "If the implementation is easy to explain, it may be a good idea.\n",
      "Namespaces are one honking great idea let's do more of those!ඞ\n",
      "Characters' codes: {'n': '0000', 'b': '00010', 'u': '00011', 'p': '00100', 'v': '0010100', 'F': '001010100', 'E': '001010101', 'I': '00101011', 'g': '001011', 'o': '0011', 'e': '010', 's': '0110', 'a': '0111', 'i': '1000', 'f': '100100', 'x': '1001010', 'S': '10010110', 'T': '10010111', 'h': '10011', ' ': '101', 'A': '11000000', 'w': '11000001', 'C': '1100001000', 'ඞ': '1100001001', '*': '110000101', 'P': '110000110', 'D': '1100001110', 'B': '1100001111', \"'\": '11000100', 'N': '110001010', 'U': '1100010110', 'R': '1100010111', 'k': '110001100', '!': '1100011010', 'Z': '1100011011', ',': '11000111', 'r': '11001', 'd': '110100', 'm': '110101', 'c': '110110', 'y': '110111', 'l': '11100', '.': '111010', '\\n': '111011', 't': '1111'}\n",
      "Encoded: 100101111001101010111000110110100000101001110010010111000011011011111111001100110000110001111010001011011110110010111100011010110111000011001011110101100101101110101110111100001111010011100011111110001001000001111100101100001101010001001011111111010110011011111100110111000010100011001011111001101111110101110110010101011001010001001110010001101101000111110110000110101000100101111111101011001101111110011011100001011000110101001001110010001101101000111111101011101110010110100011010100100111000101011000011010100010010111111110101100110111111001101110000101110110001111010100100111000101001010111010111011110000100000111101010010011100010100101010110000110101000100101111111101011001101111110011011100001011101100011110101001001110010001101100111111101011010011101011101100101010011100011111111011000011010100010010111111110101100110111111001101110000101000001001101111010110100111010111011100101100010001111100101100101011000011010100010010111111110101100110111111001101110000101110100010000001100101110101110111100010111010011111010001110001010001110010001111110111101110110001100011000011110110111010111011100101100010001011011010000111111001011101100111011001001101010111110010100000110001001111101011000100010110110100001111110010101000000011000110010111001110111110011101000101100101001111100011001011111100110101011100100011111000100110111010111011110000001110011111001100110001100101110011101001001100101111101101111100011011001111110010001111110111101000100100111111101101010010000011110011000111111011111101011101100101010111001110010011110010110101011010011001100011111001101001010000010001010001011001101001000111011001101010110100011100010000011111110011011111101011101111000101100000111000100110011010101010010100010011100100011011010001111111001101111010110100011100010000011011001011010011101011101100101011000010111111001101010110010001111101100101010011100100101011111010100010100000101100011100011111101111100011110111001010100100000110110010101111110011010101111101011010100100111101111111100000110000101111100111010010110001101001100110111010111011100101111001101011001010101011010011001100011111001101001010001001010100110000010101011100001101001010010011001010100100010110010111000101110011011110100110000111001101111010011000001010100110001000101001000001100011011010111000001011111011110111110011101110100001110110001111111010111011110000001110011111001100110001100101110011101111110011011111111011100000101111101111011101010111110111101000000111111101000100101010011000100010100100000110001101101010111111110110010010001100101101111101000110000111000100110011010111011100110001111000100110010101011100001110000111111110110100111110101110111100010100011110000011011000011010100010010111111110101100110111111001101110000101000001000101000101100111101011101111000000111001111100110011000110010111001110100000100010100010110011011000011010100111001001111010000010100010010111111110101100110111111001101110000101110000101110011000001011100111111110000101101000000111100000111101011101100101011100100101111110011010101100011010100100111000101101010100000111101111111100000110000101100001101011001101111100111010010111110011101010100101000100111000111100000001100011110110001111110001000110101011110100010011111010010110001101000100111111010111011001010111001001011111100110101011000110101001001110001011010101000001111011111111000001100001011000011010101001110110110111101111100111010101001010001001110001111000000011000111101100011111011101010111110111101000100101010111101001011001100111101001011000110100010011111101011101111000101001111101010100110001000111110110010011010101111100101010100110000010101100110011000011000110010000000001011101001011110010100111111110110001101000100111101111000101111110001000110101110100001110111010100111100101010100111001001011111100110011011001011000110101100001001\n",
      "Decoded: The Zen of Python, by Tim Peters.\n",
      "Beautiful is better than ugly.\n",
      "Explicit is better than implicit.\n",
      "Simple is better than complex.\n",
      "Complex is better than complicated.\n",
      "Flat is better than nested.\n",
      "Sparse is better than dense.\n",
      "Readability counts.\n",
      "Special cases aren't special enough to break the rules.\n",
      "Although practicality beats purity.\n",
      "Errors should never pass silently.\n",
      "Unless explicitly silenced.\n",
      "In the face of ambiguity, refuse the temptation to guess.\n",
      "There should be one and preferably only one obvious way to do it.\n",
      "Although that way may not be obvious at first unless you're Dutch.\n",
      "Now is better than never.\n",
      "Although never is often better than *right* now.\n",
      "If the implementation is hard to explain, it's a bad idea.\n",
      "If the implementation is easy to explain, it may be a good idea.\n",
      "Namespaces are one honking great idea let's do more of those!ඞ\n"
     ]
    }
   ],
   "execution_count": 4
  },
  {
   "cell_type": "code",
   "source": [
    "class Base64:\n",
    "    @staticmethod\n",
    "    def char_to_binary(char: str) -> str:\n",
    "        return ''.join(format(ord(char), '08b'))\n",
    "    @staticmethod\n",
    "    def split_string_by_chunks(s: str, n: int) -> list:\n",
    "        return [s[i:i + n] for i in range(0, len(s), n)]\n",
    "    \n",
    "    base64chars = \"ABCDEFGHIJKLMNOPQRSTUVWXYZabcdefghijklmnopqrstuvwxyz0123456789+/\"\n",
    "    code_to_base64char = {format(i, '06b'): char for i, char in enumerate(base64chars)}\n",
    "    @staticmethod\n",
    "    def base64char_to_code(char: str) -> str:\n",
    "        if char == \"=\":\n",
    "            return \"\"\n",
    "        base64char_to_code = {code: char for char, code in Base64.code_to_base64char.items()}\n",
    "        return base64char_to_code[char]\n",
    "    \n",
    "\n"
   ],
   "metadata": {
    "collapsed": false,
    "ExecuteTime": {
     "end_time": "2024-12-07T11:57:26.828573Z",
     "start_time": "2024-12-07T11:57:26.815753Z"
    }
   },
   "id": "848e1bc6c6095797",
   "outputs": [],
   "execution_count": 27
  },
  {
   "cell_type": "code",
   "source": [
    "class Base64Encoder(Base64):\n",
    "    @staticmethod\n",
    "    def data_to_utf8_stream(data: str) -> str:\n",
    "        stream = \"\"\n",
    "        for char in data:\n",
    "            stream += Base64Encoder.char_to_binary(char)\n",
    "        return stream\n",
    "    @staticmethod\n",
    "    def stream_to_base64(stream: str) -> str:\n",
    "        stream_chunks = Base64Encoder.split_string_by_chunks(stream, 6)\n",
    "        while len(stream_chunks[len(stream_chunks) - 1]) < 6:\n",
    "            stream_chunks[len(stream_chunks) - 1] += '0'\n",
    "        base64_stream = \"\"\n",
    "        for code in stream_chunks:\n",
    "            base64_stream += Base64Encoder.code_to_base64char[code]\n",
    "        return base64_stream\n",
    "    def __init__(self, data: str):\n",
    "        self.data = data\n",
    "    def encode(self) -> str:\n",
    "        stream = Base64Encoder.data_to_utf8_stream(self.data)\n",
    "        base64_string = Base64Encoder.stream_to_base64(stream)\n",
    "        while len(base64_string) % 4 != 0:\n",
    "            base64_string += \"=\"\n",
    "        return base64_string\n"
   ],
   "metadata": {
    "collapsed": false,
    "ExecuteTime": {
     "end_time": "2024-12-07T11:57:28.244699Z",
     "start_time": "2024-12-07T11:57:28.234701Z"
    }
   },
   "id": "393565c6bd2d5627",
   "outputs": [],
   "execution_count": 28
  },
  {
   "cell_type": "code",
   "source": [
    "class Base64Decoder(Base64):\n",
    "    @staticmethod\n",
    "    def base64_to_base64_stream(data: str) -> str:\n",
    "        base64_stream = \"\"\n",
    "        for char in data:\n",
    "            coded_char = Base64Decoder.base64char_to_code(char)\n",
    "            base64_stream = base64_stream + coded_char\n",
    "        return base64_stream\n",
    "    @staticmethod\n",
    "    def b64stream_to_utf8(data: str) -> str:\n",
    "        base64_stream_chunks = Base64Decoder.split_string_by_chunks(data, 8)\n",
    "        utf8_string = \"\"\n",
    "        for code in base64_stream_chunks:\n",
    "            decimal_value = int(code, 2)\n",
    "            utf8_string += chr(decimal_value)\n",
    "        return utf8_string\n",
    "    def __init__(self, data: str):\n",
    "        self.data = data\n",
    "    def decode(self) -> str:\n",
    "        b64_stream = Base64Decoder.base64_to_base64_stream(self.data)\n",
    "        utf8_string = Base64Decoder.b64stream_to_utf8(b64_stream)\n",
    "        return utf8_string\n",
    "        "
   ],
   "metadata": {
    "collapsed": false,
    "ExecuteTime": {
     "end_time": "2024-12-07T11:57:28.712481Z",
     "start_time": "2024-12-07T11:57:28.700514Z"
    }
   },
   "id": "96a332d63253a81e",
   "outputs": [],
   "execution_count": 29
  },
  {
   "cell_type": "code",
   "source": [
    "encoder = Base64Encoder(text_to_code)\n",
    "encoded_string = encoder.encode()\n",
    "print(f\"Encoded: {encoded_string}\")"
   ],
   "metadata": {
    "collapsed": false,
    "ExecuteTime": {
     "end_time": "2024-12-07T11:57:29.597237Z",
     "start_time": "2024-12-07T11:57:29.586266Z"
    }
   },
   "id": "fda8c3ba04caac98",
   "outputs": [
    {
     "name": "stdout",
     "output_type": "stream",
     "text": [
      "Encoded: VGhlIFplbiBvZiBQeXRob24sIGJ5IFRpbSBQZXRlcnMuCkJlYXV0aWZ1bCBpcyBiZXR0ZXIgdGhhbiB1Z2x5LgpFeHBsaWNpdCBpcyBiZXR0ZXIgdGhhbiBpbXBsaWNpdC4KU2ltcGxlIGlzIGJldHRlciB0aGFuIGNvbXBsZXguCkNvbXBsZXggaXMgYmV0dGVyIHRoYW4gY29tcGxpY2F0ZWQuCkZsYXQgaXMgYmV0dGVyIHRoYW4gbmVzdGVkLgpTcGFyc2UgaXMgYmV0dGVyIHRoYW4gZGVuc2UuClJlYWRhYmlsaXR5IGNvdW50cy4KU3BlY2lhbCBjYXNlcyBhcmVuJ3Qgc3BlY2lhbCBlbm91Z2ggdG8gYnJlYWsgdGhlIHJ1bGVzLgpBbHRob3VnaCBwcmFjdGljYWxpdHkgYmVhdHMgcHVyaXR5LgpFcnJvcnMgc2hvdWxkIG5ldmVyIHBhc3Mgc2lsZW50bHkuClVubGVzcyBleHBsaWNpdGx5IHNpbGVuY2VkLgpJbiB0aGUgZmFjZSBvZiBhbWJpZ3VpdHksIHJlZnVzZSB0aGUgdGVtcHRhdGlvbiB0byBndWVzcy4KVGhlcmUgc2hvdWxkIGJlIG9uZSBhbmQgcHJlZmVyYWJseSBvbmx5IG9uZSBvYnZpb3VzIHdheSB0byBkbyBpdC4KQWx0aG91Z2ggdGhhdCB3YXkgbWF5IG5vdCBiZSBvYnZpb3VzIGF0IGZpcnN0IHVubGVzcyB5b3UncmUgRHV0Y2guCk5vdyBpcyBiZXR0ZXIgdGhhbiBuZXZlci4KQWx0aG91Z2ggbmV2ZXIgaXMgb2Z0ZW4gYmV0dGVyIHRoYW4gKnJpZ2h0KiBub3cuCklmIHRoZSBpbXBsZW1lbnRhdGlvbiBpcyBoYXJkIHRvIGV4cGxhaW4sIGl0J3MgYSBiYWQgaWRlYS4KSWYgdGhlIGltcGxlbWVudGF0aW9uIGlzIGVhc3kgdG8gZXhwbGFpbiwgaXQgbWF5IGJlIGEgZ29vZCBpZGVhLgpOYW1lc3BhY2VzIGFyZSBvbmUgaG9ua2luZyBncmVhdCBpZGVhIGxldCdzIGRvIG1vcmUgb2YgdGhvc2Uh2e==\n"
     ]
    }
   ],
   "execution_count": 30
  },
  {
   "cell_type": "code",
   "source": [
    "decoder = Base64Decoder(encoded_string)\n",
    "decoded_string = decoder.decode()\n",
    "print(f\"Decoded: {decoded_string}\")"
   ],
   "metadata": {
    "collapsed": false,
    "ExecuteTime": {
     "end_time": "2024-12-07T11:57:30.224333Z",
     "start_time": "2024-12-07T11:57:30.214360Z"
    }
   },
   "id": "9d95a4d119c42727",
   "outputs": [
    {
     "name": "stdout",
     "output_type": "stream",
     "text": [
      "Decoded: The Zen of Python, by Tim Peters.\n",
      "Beautiful is better than ugly.\n",
      "Explicit is better than implicit.\n",
      "Simple is better than complex.\n",
      "Complex is better than complicated.\n",
      "Flat is better than nested.\n",
      "Sparse is better than dense.\n",
      "Readability counts.\n",
      "Special cases aren't special enough to break the rules.\n",
      "Although practicality beats purity.\n",
      "Errors should never pass silently.\n",
      "Unless explicitly silenced.\n",
      "In the face of ambiguity, refuse the temptation to guess.\n",
      "There should be one and preferably only one obvious way to do it.\n",
      "Although that way may not be obvious at first unless you're Dutch.\n",
      "Now is better than never.\n",
      "Although never is often better than *right* now.\n",
      "If the implementation is hard to explain, it's a bad idea.\n",
      "If the implementation is easy to explain, it may be a good idea.\n",
      "Namespaces are one honking great idea let's do more of those!Ù\u000E\n"
     ]
    }
   ],
   "execution_count": 31
  },
  {
   "metadata": {
    "ExecuteTime": {
     "end_time": "2024-12-09T17:20:36.969979Z",
     "start_time": "2024-12-09T17:20:36.680677Z"
    }
   },
   "cell_type": "code",
   "source": [
    "from coding_evaluation import CodingEvaluator\n",
    "\n",
    "def base64_evaluation(data: str, is_encoding: bool, to_binary: bool) -> str:\n",
    "    encoder = Base64Encoder(data)\n",
    "    encoded_string = encoder.encode()\n",
    "    decoder = Base64Decoder(data)\n",
    "    decoded_string = decoder.decode()\n",
    "    if is_encoding:\n",
    "        return encoded_string\n",
    "    else:\n",
    "        return decoded_string\n",
    "\n",
    "def get_test_cases() -> list:\n",
    "    file = open(r\"../cache/lab3/test_cases.txt\", \"r\")\n",
    "    test_cases = file.read().split(\";\")\n",
    "    return test_cases\n",
    "\n",
    "evaluator = CodingEvaluator(get_test_cases=get_test_cases, base64=base64_evaluation)\n",
    "evaluator.evaluate()\n",
    "    "
   ],
   "id": "cb21dc404cdf47f5",
   "outputs": [
    {
     "ename": "UnicodeDecodeError",
     "evalue": "'charmap' codec can't decode byte 0x81 in position 100: character maps to <undefined>",
     "output_type": "error",
     "traceback": [
      "\u001B[1;31m---------------------------------------------------------------------------\u001B[0m",
      "\u001B[1;31mUnicodeDecodeError\u001B[0m                        Traceback (most recent call last)",
      "Cell \u001B[1;32mIn[1], line 18\u001B[0m\n\u001B[0;32m     15\u001B[0m     test_cases \u001B[38;5;241m=\u001B[39m file\u001B[38;5;241m.\u001B[39mread()\u001B[38;5;241m.\u001B[39msplit(\u001B[38;5;124m\"\u001B[39m\u001B[38;5;124m;\u001B[39m\u001B[38;5;124m\"\u001B[39m)\n\u001B[0;32m     16\u001B[0m     \u001B[38;5;28;01mreturn\u001B[39;00m test_cases\n\u001B[1;32m---> 18\u001B[0m evaluator \u001B[38;5;241m=\u001B[39m \u001B[43mCodingEvaluator\u001B[49m\u001B[43m(\u001B[49m\u001B[43mget_test_cases\u001B[49m\u001B[38;5;241;43m=\u001B[39;49m\u001B[43mget_test_cases\u001B[49m\u001B[43m,\u001B[49m\u001B[43m \u001B[49m\u001B[43mbase64\u001B[49m\u001B[38;5;241;43m=\u001B[39;49m\u001B[43mbase64_evaluation\u001B[49m\u001B[43m)\u001B[49m\n\u001B[0;32m     19\u001B[0m evaluator\u001B[38;5;241m.\u001B[39mevaluate()\n",
      "File \u001B[1;32m~\\PycharmProjects\\lr1\\lab3\\coding_evaluation.py:27\u001B[0m, in \u001B[0;36mCodingEvaluator.__init__\u001B[1;34m(self, get_test_cases, **kwargs)\u001B[0m\n\u001B[0;32m     26\u001B[0m \u001B[38;5;28;01mdef\u001B[39;00m \u001B[38;5;21m__init__\u001B[39m(\u001B[38;5;28mself\u001B[39m, get_test_cases: Callable, \u001B[38;5;241m*\u001B[39m\u001B[38;5;241m*\u001B[39mkwargs):\n\u001B[1;32m---> 27\u001B[0m     \u001B[38;5;28mself\u001B[39m\u001B[38;5;241m.\u001B[39mtest_cases \u001B[38;5;241m=\u001B[39m \u001B[43mget_test_cases\u001B[49m\u001B[43m(\u001B[49m\u001B[43m)\u001B[49m\n\u001B[0;32m     28\u001B[0m     \u001B[38;5;28mself\u001B[39m\u001B[38;5;241m.\u001B[39malgorithms \u001B[38;5;241m=\u001B[39m kwargs\n",
      "Cell \u001B[1;32mIn[1], line 15\u001B[0m, in \u001B[0;36mget_test_cases\u001B[1;34m()\u001B[0m\n\u001B[0;32m     13\u001B[0m \u001B[38;5;28;01mdef\u001B[39;00m \u001B[38;5;21mget_test_cases\u001B[39m() \u001B[38;5;241m-\u001B[39m\u001B[38;5;241m>\u001B[39m \u001B[38;5;28mlist\u001B[39m:\n\u001B[0;32m     14\u001B[0m     file \u001B[38;5;241m=\u001B[39m \u001B[38;5;28mopen\u001B[39m(\u001B[38;5;124mr\u001B[39m\u001B[38;5;124m\"\u001B[39m\u001B[38;5;124m../cache/lab3/test_cases.txt\u001B[39m\u001B[38;5;124m\"\u001B[39m, \u001B[38;5;124m\"\u001B[39m\u001B[38;5;124mr\u001B[39m\u001B[38;5;124m\"\u001B[39m)\n\u001B[1;32m---> 15\u001B[0m     test_cases \u001B[38;5;241m=\u001B[39m \u001B[43mfile\u001B[49m\u001B[38;5;241;43m.\u001B[39;49m\u001B[43mread\u001B[49m\u001B[43m(\u001B[49m\u001B[43m)\u001B[49m\u001B[38;5;241m.\u001B[39msplit(\u001B[38;5;124m\"\u001B[39m\u001B[38;5;124m;\u001B[39m\u001B[38;5;124m\"\u001B[39m)\n\u001B[0;32m     16\u001B[0m     \u001B[38;5;28;01mreturn\u001B[39;00m test_cases\n",
      "File \u001B[1;32m~\\AppData\\Local\\Programs\\Python\\Python310\\lib\\encodings\\cp1252.py:23\u001B[0m, in \u001B[0;36mIncrementalDecoder.decode\u001B[1;34m(self, input, final)\u001B[0m\n\u001B[0;32m     22\u001B[0m \u001B[38;5;28;01mdef\u001B[39;00m \u001B[38;5;21mdecode\u001B[39m(\u001B[38;5;28mself\u001B[39m, \u001B[38;5;28minput\u001B[39m, final\u001B[38;5;241m=\u001B[39m\u001B[38;5;28;01mFalse\u001B[39;00m):\n\u001B[1;32m---> 23\u001B[0m     \u001B[38;5;28;01mreturn\u001B[39;00m \u001B[43mcodecs\u001B[49m\u001B[38;5;241;43m.\u001B[39;49m\u001B[43mcharmap_decode\u001B[49m\u001B[43m(\u001B[49m\u001B[38;5;28;43minput\u001B[39;49m\u001B[43m,\u001B[49m\u001B[38;5;28;43mself\u001B[39;49m\u001B[38;5;241;43m.\u001B[39;49m\u001B[43merrors\u001B[49m\u001B[43m,\u001B[49m\u001B[43mdecoding_table\u001B[49m\u001B[43m)\u001B[49m[\u001B[38;5;241m0\u001B[39m]\n",
      "\u001B[1;31mUnicodeDecodeError\u001B[0m: 'charmap' codec can't decode byte 0x81 in position 100: character maps to <undefined>"
     ]
    }
   ],
   "execution_count": 1
  },
  {
   "metadata": {},
   "cell_type": "code",
   "outputs": [],
   "execution_count": null,
   "source": "",
   "id": "23414c3b6630889"
  }
 ],
 "metadata": {
  "kernelspec": {
   "display_name": "Python 3",
   "language": "python",
   "name": "python3"
  },
  "language_info": {
   "codemirror_mode": {
    "name": "ipython",
    "version": 2
   },
   "file_extension": ".py",
   "mimetype": "text/x-python",
   "name": "python",
   "nbconvert_exporter": "python",
   "pygments_lexer": "ipython2",
   "version": "2.7.6"
  }
 },
 "nbformat": 4,
 "nbformat_minor": 5
}

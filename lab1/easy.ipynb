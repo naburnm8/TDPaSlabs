{
 "cells": [
  {
   "cell_type": "code",
   "id": "initial_id",
   "metadata": {
    "collapsed": true,
    "ExecuteTime": {
     "end_time": "2024-10-11T09:14:59.951405Z",
     "start_time": "2024-10-11T09:14:53.939025Z"
    }
   },
   "source": [
    "name = input(\"Enter your name: \")\n",
    "while name == \"\":\n",
    "    name = input(\"Please, enter a valid name: \")\n",
    "print(f\"Hello {name}!\")"
   ],
   "outputs": [
    {
     "name": "stdout",
     "output_type": "stream",
     "text": [
      "Hello Ulana!\n"
     ]
    }
   ],
   "execution_count": 3
  },
  {
   "metadata": {
    "ExecuteTime": {
     "end_time": "2024-11-07T15:42:05.449641Z",
     "start_time": "2024-11-07T15:42:02.404678Z"
    }
   },
   "cell_type": "code",
   "source": [
    "def isint(num: str) -> bool:\n",
    "    try:\n",
    "        int(num)\n",
    "    except ValueError:\n",
    "        return False\n",
    "    else:\n",
    "        return True\n",
    "\n",
    "def add(x: str, y: str) -> int:\n",
    "    if isint(x) and isint(y):\n",
    "        return int(x) + int(y)\n",
    "    \n",
    "a = input(\"Enter the first number: \")\n",
    "b = input(\"Enter the second number: \")\n",
    "print(add(a, b))"
   ],
   "id": "810d9d34ca2e62d4",
   "outputs": [
    {
     "name": "stdout",
     "output_type": "stream",
     "text": [
      "5\n"
     ]
    }
   ],
   "execution_count": 1
  },
  {
   "metadata": {
    "ExecuteTime": {
     "end_time": "2024-10-11T09:19:17.185186Z",
     "start_time": "2024-10-11T09:19:17.173205Z"
    }
   },
   "cell_type": "code",
   "source": [
    "import random\n",
    "def bubblesort(arr: list) -> None:\n",
    "    n = len(arr)\n",
    "    for i in range(n):\n",
    "        for j in range(0, n-i-1):\n",
    "            if arr[j] > arr[j+1]:\n",
    "                arr[j], arr[j+1] = arr[j+1], arr[j]\n",
    "a = []\n",
    "for i in range(10):\n",
    "    a.append(random.randint(1, 100))\n",
    "print(a)\n",
    "bubblesort(a)\n",
    "print(a)"
   ],
   "id": "33aca293b9d090e6",
   "outputs": [
    {
     "name": "stdout",
     "output_type": "stream",
     "text": [
      "[70, 7, 88, 62, 60, 94, 62, 82, 79, 45]\n",
      "[7, 45, 60, 62, 62, 70, 79, 82, 88, 94]\n"
     ]
    }
   ],
   "execution_count": 6
  },
  {
   "metadata": {
    "ExecuteTime": {
     "end_time": "2024-10-11T09:21:57.113374Z",
     "start_time": "2024-10-11T09:21:57.098451Z"
    }
   },
   "cell_type": "code",
   "source": [
    "for i in range(1, 51):\n",
    "    if i % 2 == 0:\n",
    "        print(f\"{i} is even\")\n",
    "    else:\n",
    "        print(f\"{i} is odd\")\n",
    "    if i % 3 == 0 and i % 5 == 0:\n",
    "        print(f\"{i} is divisible by 3 and 5\")\n",
    "        continue\n",
    "    if i % 3 == 0:\n",
    "        print(f\"{i} is divisible by 3\")\n",
    "        continue\n",
    "    if i % 5 == 0:\n",
    "        print(f\"{i} is divisible by 5\")\n",
    "    "
   ],
   "id": "9613f37819ee0ba5",
   "outputs": [
    {
     "name": "stdout",
     "output_type": "stream",
     "text": [
      "1 is odd\n",
      "2 is even\n",
      "3 is odd\n",
      "3 is divisible by 3\n",
      "4 is even\n",
      "5 is odd\n",
      "5 is divisible by 5\n",
      "6 is even\n",
      "6 is divisible by 3\n",
      "7 is odd\n",
      "8 is even\n",
      "9 is odd\n",
      "9 is divisible by 3\n",
      "10 is even\n",
      "10 is divisible by 5\n",
      "11 is odd\n",
      "12 is even\n",
      "12 is divisible by 3\n",
      "13 is odd\n",
      "14 is even\n",
      "15 is odd\n",
      "15 is divisible by 3 and 5\n",
      "16 is even\n",
      "17 is odd\n",
      "18 is even\n",
      "18 is divisible by 3\n",
      "19 is odd\n",
      "20 is even\n",
      "20 is divisible by 5\n",
      "21 is odd\n",
      "21 is divisible by 3\n",
      "22 is even\n",
      "23 is odd\n",
      "24 is even\n",
      "24 is divisible by 3\n",
      "25 is odd\n",
      "25 is divisible by 5\n",
      "26 is even\n",
      "27 is odd\n",
      "27 is divisible by 3\n",
      "28 is even\n",
      "29 is odd\n",
      "30 is even\n",
      "30 is divisible by 3 and 5\n",
      "31 is odd\n",
      "32 is even\n",
      "33 is odd\n",
      "33 is divisible by 3\n",
      "34 is even\n",
      "35 is odd\n",
      "35 is divisible by 5\n",
      "36 is even\n",
      "36 is divisible by 3\n",
      "37 is odd\n",
      "38 is even\n",
      "39 is odd\n",
      "39 is divisible by 3\n",
      "40 is even\n",
      "40 is divisible by 5\n",
      "41 is odd\n",
      "42 is even\n",
      "42 is divisible by 3\n",
      "43 is odd\n",
      "44 is even\n",
      "45 is odd\n",
      "45 is divisible by 3 and 5\n",
      "46 is even\n",
      "47 is odd\n",
      "48 is even\n",
      "48 is divisible by 3\n",
      "49 is odd\n",
      "50 is even\n",
      "50 is divisible by 5\n"
     ]
    }
   ],
   "execution_count": 7
  },
  {
   "metadata": {
    "ExecuteTime": {
     "end_time": "2024-10-11T09:24:38.044349Z",
     "start_time": "2024-10-11T09:24:35.359328Z"
    }
   },
   "cell_type": "code",
   "source": [
    "a = int(input(\"Enter a number: \"))\n",
    "if a % 2 == 0:\n",
    "    print(f\"{a} is even\")\n",
    "else:\n",
    "    print(f\"{a} is odd\")\n",
    "if a > 0:\n",
    "    print(f\"{a} is positive\")\n",
    "elif a < 0:\n",
    "    print(f\"{a} is negative\")\n",
    "else:\n",
    "    print(f\"{a} is zero\")"
   ],
   "id": "3673e5fa62d107be",
   "outputs": [
    {
     "name": "stdout",
     "output_type": "stream",
     "text": [
      "-25 is odd\n",
      "-25 is negative\n"
     ]
    }
   ],
   "execution_count": 9
  },
  {
   "metadata": {
    "ExecuteTime": {
     "end_time": "2024-10-11T09:26:17.191054Z",
     "start_time": "2024-10-11T09:26:17.175088Z"
    }
   },
   "cell_type": "code",
   "source": [
    "def operations(x: int, y: int) -> tuple:\n",
    "    return x * y, x + y, x - y\n",
    "\n",
    "print(operations(2,3))"
   ],
   "id": "4ea8d4d3e5ba1758",
   "outputs": [
    {
     "name": "stdout",
     "output_type": "stream",
     "text": [
      "(6, 5, -1)\n"
     ]
    }
   ],
   "execution_count": 10
  },
  {
   "metadata": {
    "ExecuteTime": {
     "end_time": "2024-10-11T09:33:51.903348Z",
     "start_time": "2024-10-11T09:33:48.018377Z"
    }
   },
   "cell_type": "code",
   "source": [
    "string = input(\"Enter a string: \")\n",
    "print(f\"Total symbols: {len(string)}\")\n",
    "print(f\"Total spaces: {string.count(' ')}\")\n",
    "string = string.lower()\n",
    "vowels = \"aeiou\"\n",
    "vowelsCount = sum(string.count(vowel) for vowel in vowels)\n",
    "print(f\"Total vowels: {vowelsCount}\")\n",
    "consonants = \"bcdfghjklmnpqrstvwxyz\"\n",
    "consonantsCount = sum(string.count(consonant) for consonant in consonants)\n",
    "print(f\"Total consonants: {consonantsCount}\")"
   ],
   "id": "bacd774a0081254e",
   "outputs": [
    {
     "name": "stdout",
     "output_type": "stream",
     "text": [
      "Total symbols: 7\n",
      "Total spaces: 1\n",
      "Total vowels: 2\n",
      "Total consonants: 3\n"
     ]
    }
   ],
   "execution_count": 13
  },
  {
   "metadata": {
    "ExecuteTime": {
     "end_time": "2024-10-11T09:40:54.469144Z",
     "start_time": "2024-10-11T09:40:52.690640Z"
    }
   },
   "cell_type": "code",
   "source": [
    "listInt = []\n",
    "for i in range(10):\n",
    "    listInt.append(random.randint(1, 10))\n",
    "a = int(input(\"Enter a number: \"))\n",
    "print(listInt)\n",
    "if a in listInt:\n",
    "    print(f\"{a} is in the list\")\n",
    "else:\n",
    "    listInt.append(a)\n",
    "    listInt = sorted(listInt)\n",
    "    print(listInt)\n",
    "    print(f\"There are {len(listInt[:listInt.index(a)])} numbers less than {a} in the list\")\n",
    "    print(f\"There are {len(listInt[listInt.index(a) + 1:])} numbers greater than {a} in the list\")\n",
    "    "
   ],
   "id": "ec47532c5214432d",
   "outputs": [
    {
     "name": "stdout",
     "output_type": "stream",
     "text": [
      "[5, 7, 4, 7, 5, 2, 4, 10, 4, 9]\n",
      "[2, 4, 4, 4, 5, 5, 7, 7, 8, 9, 10]\n",
      "There are 8 numbers less than 8 in the list\n",
      "There are 2 numbers greater than 8 in the list\n"
     ]
    }
   ],
   "execution_count": 21
  },
  {
   "metadata": {
    "ExecuteTime": {
     "end_time": "2024-10-11T10:28:53.216Z",
     "start_time": "2024-10-11T10:28:53.209019Z"
    }
   },
   "cell_type": "code",
   "source": [
    "file = open(\"cache//lab1//file.txt\", \"r\")\n",
    "buf = file.read()\n",
    "file.close()\n",
    "lines = buf.split(\"\\n\")\n",
    "words = buf.split(\" \")\n",
    "print(f\"Total lines: {len(lines)}\")\n",
    "print(f\"Total words: {len(words)}\")\n",
    "print(f\"Total characters: {sum(len(line) for line in lines)}\")"
   ],
   "id": "eda960024437efc",
   "outputs": [
    {
     "name": "stdout",
     "output_type": "stream",
     "text": [
      "Total lines: 21\n",
      "Total words: 124\n",
      "Total characters: 829\n"
     ]
    }
   ],
   "execution_count": 33
  },
  {
   "metadata": {
    "ExecuteTime": {
     "end_time": "2024-10-11T10:16:22.429890Z",
     "start_time": "2024-10-11T10:16:22.414176Z"
    }
   },
   "cell_type": "code",
   "source": [
    "def get_age(name: str) -> int:\n",
    "    global peopleDict\n",
    "    if name in peopleDict:\n",
    "        return peopleDict[name]\n",
    "    else:\n",
    "        print(f\"No such person named {name} in the dict\")\n",
    "        return 0\n",
    "peopleDict = {\"Andrew\": 29, \"John\": 18, \"Minnie\": 27, \"Roberta\": 45}\n",
    "print(get_age(\"Minnie\"))\n",
    "print(get_age(\"Semen\"))\n"
   ],
   "id": "3efe0e8278cb63d1",
   "outputs": [
    {
     "name": "stdout",
     "output_type": "stream",
     "text": [
      "27\n",
      "No such person named Semen in the dict\n",
      "0\n"
     ]
    }
   ],
   "execution_count": 30
  },
  {
   "metadata": {},
   "cell_type": "code",
   "outputs": [],
   "execution_count": null,
   "source": "",
   "id": "a92df4850f526c65"
  }
 ],
 "metadata": {
  "kernelspec": {
   "display_name": "Python 3",
   "language": "python",
   "name": "python3"
  },
  "language_info": {
   "codemirror_mode": {
    "name": "ipython",
    "version": 2
   },
   "file_extension": ".py",
   "mimetype": "text/x-python",
   "name": "python",
   "nbconvert_exporter": "python",
   "pygments_lexer": "ipython2",
   "version": "2.7.6"
  }
 },
 "nbformat": 4,
 "nbformat_minor": 5
}

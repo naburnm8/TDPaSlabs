{
 "cells": [
  {
   "cell_type": "code",
   "id": "initial_id",
   "metadata": {
    "collapsed": true,
    "ExecuteTime": {
     "end_time": "2024-10-11T10:18:53.688810Z",
     "start_time": "2024-10-11T10:18:53.683302Z"
    }
   },
   "source": [
    "import numpy as np\n",
    "\n",
    "# 7x + 2y = 14\n",
    "# 3x + 12y = 1\n",
    "\n",
    "coefficients = np.array([[7,2], [3, 12]])\n",
    "equals = np.array([14,1])\n",
    "\n",
    "intersection = np.linalg.solve(coefficients, equals)\n",
    "solution = (float(intersection[0]), float(intersection[1]))\n",
    "print(f\"Solution for this system is point {solution} (numpy)\")\n",
    "\n",
    "def substitution(coefficientsList: list, equalsList: list) -> tuple:\n",
    "    x = (equalsList[0] - coefficientsList[1]*(equalsList[1] - coefficientsList[2]*(equalsList[0] / coefficientsList[0])) / coefficientsList[3]) / coefficientsList[0]\n",
    "    y = (equalsList[0] - coefficientsList[0] * x) / coefficientsList[1]\n",
    "    return x, y\n",
    "\n",
    "coefficientsList = [7,2,3,12]\n",
    "equalsList = [14, 1]\n",
    "print(f\"Solution for this system is point {substitution(coefficientsList, equalsList)} (substitution)\")\n"
   ],
   "outputs": [
    {
     "name": "stdout",
     "output_type": "stream",
     "text": [
      "Solution for this system is point (2.128205128205128, -0.44871794871794873) (numpy)\n",
      "Solution for this system is point (2.119047619047619, -0.41666666666666696) (substitution)\n"
     ]
    }
   ],
   "execution_count": 4
  },
  {
   "metadata": {
    "ExecuteTime": {
     "end_time": "2024-10-11T10:19:00.763706Z",
     "start_time": "2024-10-11T10:19:00.743249Z"
    }
   },
   "cell_type": "code",
   "source": [
    "import numpy as np\n",
    "\n",
    "# x + y = 2\n",
    "# x - y = 2\n",
    "\n",
    "coefficients = np.array([[1,1], [1, -1]])\n",
    "equals = np.array([2,2])\n",
    "\n",
    "intersection = np.linalg.solve(coefficients, equals)\n",
    "solution = (float(intersection[0]), float(intersection[1]))\n",
    "print(f\"Solution for this system is point {solution} (numpy)\")\n",
    "\n",
    "def substitution(coefficientsList: list, equalsList: list) -> tuple:\n",
    "    x = (equalsList[0] - coefficientsList[1]*(equalsList[1] - coefficientsList[2]*(equalsList[0] / coefficientsList[0])) / coefficientsList[3]) / coefficientsList[0]\n",
    "    y = (equalsList[0] - coefficientsList[0] * x) / coefficientsList[1]\n",
    "    return x, y\n",
    "\n",
    "coefficientsList = [1,1,1,-1]\n",
    "equalsList = [2, 2]\n",
    "print(f\"Solution for this system is point {substitution(coefficientsList, equalsList)} (substitution)\")"
   ],
   "id": "905a00847051967a",
   "outputs": [
    {
     "name": "stdout",
     "output_type": "stream",
     "text": [
      "Solution for this system is point (2.0, -0.0) (numpy)\n",
      "Solution for this system is point (2.0, 0.0) (substitution)\n"
     ]
    }
   ],
   "execution_count": 5
  },
  {
   "metadata": {},
   "cell_type": "code",
   "outputs": [],
   "execution_count": null,
   "source": "",
   "id": "81ffe7d3c5ed1300"
  }
 ],
 "metadata": {
  "kernelspec": {
   "display_name": "Python 3",
   "language": "python",
   "name": "python3"
  },
  "language_info": {
   "codemirror_mode": {
    "name": "ipython",
    "version": 2
   },
   "file_extension": ".py",
   "mimetype": "text/x-python",
   "name": "python",
   "nbconvert_exporter": "python",
   "pygments_lexer": "ipython2",
   "version": "2.7.6"
  }
 },
 "nbformat": 4,
 "nbformat_minor": 5
}

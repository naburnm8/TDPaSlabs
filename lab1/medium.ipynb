{
 "cells": [
  {
   "cell_type": "code",
   "id": "initial_id",
   "metadata": {
    "collapsed": true,
    "ExecuteTime": {
     "end_time": "2024-10-11T09:57:35.094351Z",
     "start_time": "2024-10-11T09:57:35.082876Z"
    }
   },
   "source": [
    "import random\n",
    "\n",
    "numbers = []\n",
    "for i in range(10):\n",
    "    numbers.append(random.randint(1,10))\n",
    "    \n",
    "def square(number):\n",
    "    return number*number\n",
    "print(f\"Initial numbers: {numbers}\")\n",
    "print(f\"Squared numbers: {list(map(square, numbers))}\")"
   ],
   "outputs": [
    {
     "name": "stdout",
     "output_type": "stream",
     "text": [
      "Initial numbers: [4, 9, 9, 8, 7, 4, 4, 10, 3, 9]\n",
      "Squared numbers: [16, 81, 81, 64, 49, 16, 16, 100, 9, 81]\n"
     ]
    }
   ],
   "execution_count": 1
  },
  {
   "metadata": {},
   "cell_type": "code",
   "outputs": [],
   "execution_count": null,
   "source": "",
   "id": "54353898e102b122"
  }
 ],
 "metadata": {
  "kernelspec": {
   "display_name": "Python 3",
   "language": "python",
   "name": "python3"
  },
  "language_info": {
   "codemirror_mode": {
    "name": "ipython",
    "version": 2
   },
   "file_extension": ".py",
   "mimetype": "text/x-python",
   "name": "python",
   "nbconvert_exporter": "python",
   "pygments_lexer": "ipython2",
   "version": "2.7.6"
  }
 },
 "nbformat": 4,
 "nbformat_minor": 5
}

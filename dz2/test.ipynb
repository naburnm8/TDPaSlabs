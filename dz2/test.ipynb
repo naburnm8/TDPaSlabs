{
 "cells": [
  {
   "cell_type": "code",
   "id": "initial_id",
   "metadata": {
    "collapsed": true,
    "ExecuteTime": {
     "end_time": "2024-12-01T16:26:50.315861Z",
     "start_time": "2024-12-01T16:26:50.305480Z"
    }
   },
   "source": "type(0x01)",
   "outputs": [
    {
     "data": {
      "text/plain": [
       "int"
      ]
     },
     "execution_count": 1,
     "metadata": {},
     "output_type": "execute_result"
    }
   ],
   "execution_count": 1
  },
  {
   "metadata": {
    "ExecuteTime": {
     "end_time": "2024-12-01T17:55:27.926923Z",
     "start_time": "2024-12-01T17:55:27.920808Z"
    }
   },
   "cell_type": "code",
   "source": [
    "a = {\"a\": [1,2,3], \"b\": [3,4], \"c\": [2,1,4,5,6], \"d\": [1]}\n",
    "sorted_dict_desc = dict(sorted(a.items(), key=lambda item: len(item[1]), reverse=False))\n",
    "print(sorted_dict_desc)"
   ],
   "id": "24a9bc4a96b6045",
   "outputs": [
    {
     "name": "stdout",
     "output_type": "stream",
     "text": [
      "{'d': [1], 'b': [3, 4], 'a': [1, 2, 3], 'c': [2, 1, 4, 5, 6]}\n"
     ]
    }
   ],
   "execution_count": 3
  },
  {
   "metadata": {
    "ExecuteTime": {
     "end_time": "2024-12-01T17:58:25.609572Z",
     "start_time": "2024-12-01T17:58:25.595846Z"
    }
   },
   "cell_type": "code",
   "source": [
    "first_key = list(sorted_dict_desc.keys())[0]\n",
    "print(first_key)"
   ],
   "id": "8496500d355fa813",
   "outputs": [
    {
     "name": "stdout",
     "output_type": "stream",
     "text": [
      "d\n"
     ]
    }
   ],
   "execution_count": 4
  },
  {
   "metadata": {},
   "cell_type": "code",
   "outputs": [],
   "execution_count": null,
   "source": "",
   "id": "6001af0555dc490a"
  }
 ],
 "metadata": {
  "kernelspec": {
   "display_name": "Python 3",
   "language": "python",
   "name": "python3"
  },
  "language_info": {
   "codemirror_mode": {
    "name": "ipython",
    "version": 2
   },
   "file_extension": ".py",
   "mimetype": "text/x-python",
   "name": "python",
   "nbconvert_exporter": "python",
   "pygments_lexer": "ipython2",
   "version": "2.7.6"
  }
 },
 "nbformat": 4,
 "nbformat_minor": 5
}
